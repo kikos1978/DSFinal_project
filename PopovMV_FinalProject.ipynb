{
  "nbformat": 4,
  "nbformat_minor": 0,
  "metadata": {
    "colab": {
      "name": "PopovMV_FinalProject.ipynb",
      "provenance": [],
      "collapsed_sections": [
        "j0c7VzZsB09g",
        "xajwu9oLB7mB",
        "2ZnW5b6uCrep",
        "9ih3I--3O20w",
        "5PbIfwi-OpOo",
        "NpeEpNzvVW66",
        "s9E9dkjxWDUD",
        "p2C7-sx3BYtA",
        "XV5oHkCzBgmJ",
        "qeWsyFguFJsw",
        "cgUpYPGwA_Em"
      ]
    },
    "kernelspec": {
      "name": "python3",
      "display_name": "Python 3"
    },
    "language_info": {
      "name": "python"
    }
  },
  "cells": [
    {
      "cell_type": "markdown",
      "source": [
        "#Подготовка"
      ],
      "metadata": {
        "id": "nBOYD3FXBsKe"
      }
    },
    {
      "cell_type": "markdown",
      "source": [
        "## Импотры и инсталяции необходимых модулей"
      ],
      "metadata": {
        "id": "j0c7VzZsB09g"
      }
    },
    {
      "cell_type": "code",
      "source": [
        "#Подключим Google диск\n",
        "from google.colab import drive\n",
        "drive.mount('/content/drive')\n",
        "!cp -r ./drive/My\\ Drive/FinalProject/* ."
      ],
      "metadata": {
        "colab": {
          "base_uri": "https://localhost:8080/"
        },
        "id": "vHHiTcfO6_7J",
        "outputId": "1ab8e94c-4ee6-4010-9122-d7b1b2de4e45"
      },
      "execution_count": null,
      "outputs": [
        {
          "output_type": "stream",
          "name": "stdout",
          "text": [
            "Mounted at /content/drive\n"
          ]
        }
      ]
    },
    {
      "cell_type": "code",
      "execution_count": null,
      "metadata": {
        "id": "_ydEY5x8eRUp",
        "colab": {
          "base_uri": "https://localhost:8080/"
        },
        "outputId": "6e8ba773-5957-4fba-833d-fe21146fc3cd"
      },
      "outputs": [
        {
          "output_type": "stream",
          "name": "stdout",
          "text": [
            "\u001b[K     |████████████████████████████████| 76.1 MB 1.2 MB/s \n",
            "\u001b[K     |████████████████████████████████| 564 kB 75.9 MB/s \n",
            "\u001b[?25h"
          ]
        }
      ],
      "source": [
        "!pip install -q catboost shap"
      ]
    },
    {
      "cell_type": "code",
      "source": [
        "!pip install -q gpx-cmd-tools"
      ],
      "metadata": {
        "id": "9Gf5lowaM-JV",
        "colab": {
          "base_uri": "https://localhost:8080/"
        },
        "outputId": "e0689ac9-66a2-45af-cffb-87c38485a2f5"
      },
      "execution_count": null,
      "outputs": [
        {
          "output_type": "stream",
          "name": "stdout",
          "text": [
            "\u001b[?25l\r\u001b[K     |███                             | 10 kB 37.3 MB/s eta 0:00:01\r\u001b[K     |█████▉                          | 20 kB 45.3 MB/s eta 0:00:01\r\u001b[K     |████████▉                       | 30 kB 33.8 MB/s eta 0:00:01\r\u001b[K     |███████████▊                    | 40 kB 32.4 MB/s eta 0:00:01\r\u001b[K     |██████████████▊                 | 51 kB 35.6 MB/s eta 0:00:01\r\u001b[K     |█████████████████▋              | 61 kB 38.7 MB/s eta 0:00:01\r\u001b[K     |████████████████████▌           | 71 kB 31.0 MB/s eta 0:00:01\r\u001b[K     |███████████████████████▌        | 81 kB 32.5 MB/s eta 0:00:01\r\u001b[K     |██████████████████████████▍     | 92 kB 34.4 MB/s eta 0:00:01\r\u001b[K     |█████████████████████████████▍  | 102 kB 36.1 MB/s eta 0:00:01\r\u001b[K     |████████████████████████████████| 111 kB 36.1 MB/s \n",
            "\u001b[?25h  Building wheel for gpx-cmd-tools (setup.py) ... \u001b[?25l\u001b[?25hdone\n",
            "  Building wheel for gpxpy (setup.py) ... \u001b[?25l\u001b[?25hdone\n"
          ]
        }
      ]
    },
    {
      "cell_type": "code",
      "source": [
        "!pip install -q python-tcxparser"
      ],
      "metadata": {
        "id": "NRZ3h4ugfBez"
      },
      "execution_count": null,
      "outputs": []
    },
    {
      "cell_type": "code",
      "source": [
        "#!pip install -q pandas-profiling==3.1.0"
      ],
      "metadata": {
        "id": "Vw6NRG3cEWZR"
      },
      "execution_count": null,
      "outputs": []
    },
    {
      "cell_type": "code",
      "source": [
        "!sudo apt install -q pv"
      ],
      "metadata": {
        "id": "AbCpThfTSrCJ",
        "colab": {
          "base_uri": "https://localhost:8080/"
        },
        "outputId": "2753885c-e7c6-40cb-ea9d-c4e9f0219630"
      },
      "execution_count": null,
      "outputs": [
        {
          "output_type": "stream",
          "name": "stdout",
          "text": [
            "Reading package lists...\n",
            "Building dependency tree...\n",
            "Reading state information...\n",
            "The following package was automatically installed and is no longer required:\n",
            "  libnvidia-common-470\n",
            "Use 'sudo apt autoremove' to remove it.\n",
            "Suggested packages:\n",
            "  doc-base\n",
            "The following NEW packages will be installed:\n",
            "  pv\n",
            "0 upgraded, 1 newly installed, 0 to remove and 39 not upgraded.\n",
            "Need to get 48.3 kB of archives.\n",
            "After this operation, 123 kB of additional disk space will be used.\n",
            "Get:1 http://archive.ubuntu.com/ubuntu bionic/main amd64 pv amd64 1.6.6-1 [48.3 kB]\n",
            "Fetched 48.3 kB in 0s (155 kB/s)\n",
            "debconf: unable to initialize frontend: Dialog\n",
            "debconf: (No usable dialog-like program is installed, so the dialog based frontend cannot be used. at /usr/share/perl5/Debconf/FrontEnd/Dialog.pm line 76, <> line 1.)\n",
            "debconf: falling back to frontend: Readline\n",
            "debconf: unable to initialize frontend: Readline\n",
            "debconf: (This frontend requires a controlling tty.)\n",
            "debconf: falling back to frontend: Teletype\n",
            "dpkg-preconfigure: unable to re-open stdin: \n",
            "Selecting previously unselected package pv.\n",
            "(Reading database ... 155320 files and directories currently installed.)\n",
            "Preparing to unpack .../archives/pv_1.6.6-1_amd64.deb ...\n",
            "Unpacking pv (1.6.6-1) ...\n",
            "Setting up pv (1.6.6-1) ...\n",
            "Processing triggers for man-db (2.8.3-2ubuntu0.1) ...\n"
          ]
        }
      ]
    },
    {
      "cell_type": "code",
      "source": [
        "import catboost as ctb\n",
        "from catboost import Pool, cv\n",
        "from google.colab import output\n",
        "from pandas_profiling import ProfileReport\n",
        "from feature_selector import FeatureSelector\n",
        "import numpy as np\n",
        "import pandas as pd\n",
        "import seaborn as sns\n",
        "import shap\n",
        "import os\n",
        "import gzip\n",
        "import gc\n",
        "import folium\n",
        "import zipfile\n",
        "from matplotlib import pyplot \n",
        "import matplotlib\n",
        "from sklearn.model_selection import train_test_split\n",
        "from sklearn import metrics\n",
        "from sklearn.inspection import permutation_importance\n",
        "from sklearn import preprocessing\n",
        "import matplotlib.pyplot as plt"
      ],
      "metadata": {
        "id": "6GGDb9_DeasH"
      },
      "execution_count": null,
      "outputs": []
    },
    {
      "cell_type": "markdown",
      "source": [
        "## Загрузка данных"
      ],
      "metadata": {
        "id": "xajwu9oLB7mB"
      }
    },
    {
      "cell_type": "code",
      "source": [
        "#Разархивируем\n",
        "!unzip all_data.zip | pv -l >/dev/null\n",
        "!unzip activities.zip | pv -l >/dev/null"
      ],
      "metadata": {
        "id": "8hij2euJItRp",
        "colab": {
          "base_uri": "https://localhost:8080/"
        },
        "outputId": "da5ceb28-44b3-4379-e94c-d15bb59badd7"
      },
      "execution_count": null,
      "outputs": [
        {
          "output_type": "stream",
          "name": "stdout",
          "text": [
            "1.00  0:00:11 [0.00 /s] [ <=>                                                  ]\n",
            "2.07k 0:00:03 [ 638 /s] [    <=>                                               ]\n"
          ]
        }
      ]
    },
    {
      "cell_type": "code",
      "source": [
        "#Загрузим и соберем в один дата-сет\n",
        "a_act = pd.read_csv('1_act.csv')\n",
        "b_act = pd.read_csv('2_act.csv')\n",
        "c_act = pd.read_csv('3_act.csv')\n",
        "d_act = pd.read_csv('4_act.csv')\n",
        "e_act = pd.read_csv('5_act.csv')\n",
        "#У части спортсменов вес не был в данных, добавим руками\n",
        "a_act['Athlete Weight'] = 90\n",
        "b_act['Athlete Weight'] = 80\n",
        "c_act['Athlete Weight'] = 85\n",
        "allDf = pd.concat([a_act, b_act, c_act, d_act, e_act])"
      ],
      "metadata": {
        "id": "IcjHmi4RJm17"
      },
      "execution_count": null,
      "outputs": []
    },
    {
      "cell_type": "code",
      "source": [
        "#Выделим отдельно датасет для Визуализации\n",
        "# allDf_visual = allDf[['Activity ID', 'Filename']].copy()"
      ],
      "metadata": {
        "id": "Z4XTWKeEM626"
      },
      "execution_count": null,
      "outputs": []
    },
    {
      "cell_type": "markdown",
      "source": [
        "## Первичный анализ (Draft) можно пропустить"
      ],
      "metadata": {
        "id": "2ZnW5b6uCrep"
      }
    },
    {
      "cell_type": "code",
      "source": [
        "#Инфа по всем столбцам\n",
        "allDf.info()"
      ],
      "metadata": {
        "id": "G2g7o_BQi0KO"
      },
      "execution_count": null,
      "outputs": []
    },
    {
      "cell_type": "code",
      "source": [
        "profile = allDf.profile_report()\n",
        "profile.to_file(output_file=\"Pandas Profiling Report — Strava.html\")"
      ],
      "metadata": {
        "id": "JHOs3o1nsLK1"
      },
      "execution_count": null,
      "outputs": []
    },
    {
      "cell_type": "code",
      "source": [
        "#Не одно ли и то же?\n",
        "allDf[['Commute','Activity Type']].loc[allDf['Commute'] == True] \n",
        "allDf[['Relative Effort','Relative Effort.1']]"
      ],
      "metadata": {
        "id": "r1uLakqCKdBP"
      },
      "execution_count": null,
      "outputs": []
    },
    {
      "cell_type": "code",
      "source": [
        "#Два столбца с расстоянием, один в КМ, второс Метрах - оставим последний, более информативный\n",
        "allDf[['Distance','Distancet.1']]"
      ],
      "metadata": {
        "id": "j0S2-p7InLor"
      },
      "execution_count": null,
      "outputs": []
    },
    {
      "cell_type": "code",
      "source": [
        "# Распределение по видам активности\n",
        "RenameActType(a_act)\n",
        "a_act['Activity Type'].value_counts()"
      ],
      "metadata": {
        "id": "jvWKiFnvl1Es"
      },
      "execution_count": null,
      "outputs": []
    },
    {
      "cell_type": "code",
      "source": [
        "allDf['Activity Gear'].describe()"
      ],
      "metadata": {
        "id": "lAZYrnfFNr5M"
      },
      "execution_count": null,
      "outputs": []
    },
    {
      "cell_type": "code",
      "source": [
        "allDf['Activity Gear'].value_counts()"
      ],
      "metadata": {
        "id": "kywRN-YWS79s"
      },
      "execution_count": null,
      "outputs": []
    },
    {
      "cell_type": "code",
      "source": [
        "allDf['Athlete Weight'].value_counts()"
      ],
      "metadata": {
        "id": "TDc9iqcJTYxJ"
      },
      "execution_count": null,
      "outputs": []
    },
    {
      "cell_type": "code",
      "source": [
        "allDf['Activity Gear'].loc[allDf['Activity Gear'].isnull()] = 'Some Gear'"
      ],
      "metadata": {
        "id": "1hT5yMZ9T_Kn"
      },
      "execution_count": null,
      "outputs": []
    },
    {
      "cell_type": "code",
      "source": [
        "allDf[['Commute','Commute.1']]"
      ],
      "metadata": {
        "id": "DbUMUPTKS9_l"
      },
      "execution_count": null,
      "outputs": []
    },
    {
      "cell_type": "markdown",
      "source": [
        "## Чистим данные"
      ],
      "metadata": {
        "id": "U2P7YEdrDS-a"
      }
    },
    {
      "cell_type": "markdown",
      "source": [
        "###Подготовка:\n",
        "*   Признаки \"*Activity Name*\" и \"*Activity Description*\" описательные и заполняются самим пользователем и не несут смысловой нагрузки для анализа - удаляем\n",
        "*   Признаки \"*Distance*\" и \"*Distance.1*\" один в км, второй метрах - оставим последний, более информативный\n",
        "*   \"*Activity Date*\",\"*Activity ID*\" - Первый таймСтамп - нам не нужен, второй - просто ID тренировки - удаляем\n",
        "*  \"*Commute.1*\",\"*Commute*\",\"*From Upload*\" - технологические признаки связаные с загрузкой данных - не нужны\n",
        "*   \"*Filename*\" - ссылка на доп файлы - не нужен\n",
        "*   \"*Activity Gear*\" - тип спорт.оборудовния - описание, слишком очевидно для разделения по видам Активности\n",
        "\n",
        "\n",
        "\n",
        "\n",
        "\n",
        "\n"
      ],
      "metadata": {
        "id": "9ih3I--3O20w"
      }
    },
    {
      "cell_type": "code",
      "source": [
        "#Объявим нужны функции и константы (признаки и типы активностей) для Baseline\n",
        "\n",
        "#Функция мапинга английских и русских названий активностей\n",
        "def RenameActType(df):\n",
        "  df.loc[(df['Activity Type']=='Бег'), 'Activity Type'] = 'Run'\n",
        "  df.loc[(df['Activity Type']=='Лыжи'), 'Activity Type'] = 'Nordic Ski'\n",
        "  df.loc[(df['Activity Type']=='Велосипед'), 'Activity Type'] = 'Ride'\n",
        "  df.loc[(df['Activity Type']=='Плавание'), 'Activity Type'] = 'Swim'\n",
        "  df.loc[(df['Activity Type']=='Ходьба'), 'Activity Type'] = 'Walk'\n",
        "  df.loc[(df['Activity Type']=='Роликовые коньки'), 'Activity Type'] = 'Inline Skate'\n",
        "  df.loc[(df['Activity Type']=='Коньки'), 'Activity Type'] = 'Ice Skate'\n",
        "  df.loc[(df['Activity Type']=='Горные лыжи'), 'Activity Type'] = 'Alpine Ski'\n",
        "\n",
        "def DropNanColumns(df,col_to_drop):\n",
        "  df.drop(col_to_drop,1,inplace = True)\n",
        "\n",
        "top_activity = ['Run', 'Ride', 'Nordic Ski','Roller Ski','Walk','Inline Skate','Workout'] #ТОП-7 активностям, по колличеству записей\n",
        "col_to_drop_m = ['Activity Name','Activity Description','Activity Date','Distance', 'Activity ID','Filename', 'From Upload', 'Commute', 'Commute.1'] #Уберем сразу часть признаков"
      ],
      "metadata": {
        "id": "I4g6dfvMpZh5"
      },
      "execution_count": null,
      "outputs": []
    },
    {
      "cell_type": "markdown",
      "source": [
        "### Baseline"
      ],
      "metadata": {
        "id": "5PbIfwi-OpOo"
      }
    },
    {
      "cell_type": "code",
      "source": [
        "#Функция чистки\n",
        "def CleanDataToLearning(allDf, col_to_drop_m = [], top_activity = []):\n",
        "  RenameActType(allDf)\n",
        "  col_to_drop = []\n",
        "  allDf = allDf.loc[allDf['Activity Type'].isin(top_activity)]\n",
        "  #col_to_drop = [feature for feature in allDf.columns if (allDf[feature].isnull().sum()/allDf[feature].size) >= 0.4] #Удаляем признаки, которые больше чем на 40% незаполнены\n",
        "  col_to_drop += col_to_drop_m\n",
        "  DropNanColumns(allDf,col_to_drop)\n",
        "  return allDf"
      ],
      "metadata": {
        "id": "Y6Ly8qZ5wkj3"
      },
      "execution_count": null,
      "outputs": []
    },
    {
      "cell_type": "code",
      "source": [
        "def CutX_Y(df):\n",
        "  X = allDf.copy()\n",
        "  y = X['Activity Type']\n",
        "  X.drop(['Activity Type'],1,inplace = True)\n",
        "  return X, y"
      ],
      "metadata": {
        "id": "KJwMooh5k_Pz"
      },
      "execution_count": null,
      "outputs": []
    },
    {
      "cell_type": "code",
      "source": [
        "def FeatureOptimaiser(df, col_to_drop_m, top_activity, correlation_threshold, missing_threshold, plotHMap):\n",
        "  df = CleanDataToLearning(df, col_to_drop_m, top_activity)\n",
        "  X_1, y_1  = CutX_Y(df)\n",
        "  fs = FeatureSelector(data = X_1, labels = y_1)\n",
        "  fs.identify_collinear(correlation_threshold)\n",
        "  fs.identify_missing(missing_threshold)\n",
        "  fs.identify_single_unique()\n",
        "  if plotHMap:\n",
        "    fs.plot_collinear()\n",
        "  return fs.ops['collinear'], fs.ops['missing'], fs.ops['single_unique']"
      ],
      "metadata": {
        "id": "jWPWjsGqUM5Z"
      },
      "execution_count": null,
      "outputs": []
    },
    {
      "cell_type": "code",
      "source": [
        "# список признаков для удаления\n",
        "collinear_features, missing_features, single_features = FeatureOptimaiser(allDf, col_to_drop_m, top_activity, 0.49, 0.6, False)"
      ],
      "metadata": {
        "id": "Oc6lPji3iYUf"
      },
      "execution_count": null,
      "outputs": []
    },
    {
      "cell_type": "code",
      "source": [
        "fig = plt.figure(figsize=(8,8), dpi = 200)\n",
        "corr_matrix = allDf.corr()\n",
        "sns.heatmap(corr_matrix, annot=True, fmt=\".2g\", cmap=\"Oranges\")"
      ],
      "metadata": {
        "colab": {
          "base_uri": "https://localhost:8080/"
        },
        "id": "VGE6JPD-1I8T",
        "outputId": "22871daa-36f2-4937-ae0c-acc078a6f50e"
      },
      "execution_count": null,
      "outputs": [
        {
          "output_type": "execute_result",
          "data": {
            "text/plain": [
              "<matplotlib.axes._subplots.AxesSubplot at 0x7efc220b6c50>"
            ]
          },
          "metadata": {},
          "execution_count": 20
        }
      ]
    },
    {
      "cell_type": "code",
      "source": [
        "plt.savefig(\"corr_mtx.png\", format = 'png', dpi=200)"
      ],
      "metadata": {
        "id": "OcNzafQ31J3X"
      },
      "execution_count": null,
      "outputs": []
    },
    {
      "cell_type": "markdown",
      "source": [
        "# Разделение датасета, Подготовка моделей и Обучение"
      ],
      "metadata": {
        "id": "0i8inJccAWGP"
      }
    },
    {
      "cell_type": "markdown",
      "source": [
        "## Разделение датасета на Трениновочную, Валидационную и Тестовые Выборки"
      ],
      "metadata": {
        "id": "Gjpsr2WCBG30"
      }
    },
    {
      "cell_type": "markdown",
      "source": [
        "###Вариант 1 (выделяем Тестовую, тренировочную и валидационную выборки из всего датасета)"
      ],
      "metadata": {
        "id": "NpeEpNzvVW66"
      }
    },
    {
      "cell_type": "code",
      "source": [
        "allDf = CleanDataToLearning(allDf, col_to_drop_m+collinear_features+missing_features+single_features, top_activity)"
      ],
      "metadata": {
        "colab": {
          "base_uri": "https://localhost:8080/"
        },
        "id": "9NLztRlHVTGn",
        "outputId": "01a5660d-a544-40e6-fbec-16d119c49655"
      },
      "execution_count": null,
      "outputs": [
        {
          "output_type": "stream",
          "name": "stderr",
          "text": [
            "In a future version of pandas all arguments of DataFrame.drop except for the argument 'labels' will be keyword-only\n",
            "\n",
            "A value is trying to be set on a copy of a slice from a DataFrame\n",
            "\n",
            "See the caveats in the documentation: https://pandas.pydata.org/pandas-docs/stable/user_guide/indexing.html#returning-a-view-versus-a-copy\n"
          ]
        }
      ]
    },
    {
      "cell_type": "code",
      "source": [
        "X, y  = CutX_Y(allDf)\n",
        "categorical_feature = [feature for feature in X.columns if X[feature].dtypes == \"object\"]\n",
        "X_train, X_test, y_train, y_test = train_test_split(X, y, test_size=0.20) # выделим тестовую\n",
        "X_train, X_val, y_train, y_val = train_test_split(X_train, y_train, test_size=0.20) # разделм на тренировочную и валидационную"
      ],
      "metadata": {
        "colab": {
          "base_uri": "https://localhost:8080/"
        },
        "id": "oO7vMD1dX-7Y",
        "outputId": "494a4935-f737-47c0-ca01-4a7b2d8dca64"
      },
      "execution_count": null,
      "outputs": [
        {
          "output_type": "stream",
          "name": "stderr",
          "text": [
            "In a future version of pandas all arguments of DataFrame.drop except for the argument 'labels' will be keyword-only\n"
          ]
        }
      ]
    },
    {
      "cell_type": "markdown",
      "source": [
        "###Вариант 2 (выделяем Тестовую из данных одного спортсмена, а тренировочные и валидационные выборки из всех остальных)"
      ],
      "metadata": {
        "id": "s9E9dkjxWDUD"
      }
    },
    {
      "cell_type": "code",
      "source": [
        "#Все кроме данных одного спортмена\n",
        "allDf = pd.concat([a_act, e_act, b_act, c_act])\n",
        "allDf = CleanDataToLearning(allDf, col_to_drop_m+collinear_features+missing_features+single_features, top_activity)\n",
        "X_train, y_train = CutX_Y(allDf)"
      ],
      "metadata": {
        "id": "44dqKzesYZ_Y",
        "colab": {
          "base_uri": "https://localhost:8080/"
        },
        "outputId": "1ece566d-0995-43e6-8eeb-31f8d12e7e6f"
      },
      "execution_count": null,
      "outputs": [
        {
          "output_type": "stream",
          "name": "stderr",
          "text": [
            "In a future version of pandas all arguments of DataFrame.drop except for the argument 'labels' will be keyword-only\n",
            "\n",
            "A value is trying to be set on a copy of a slice from a DataFrame\n",
            "\n",
            "See the caveats in the documentation: https://pandas.pydata.org/pandas-docs/stable/user_guide/indexing.html#returning-a-view-versus-a-copy\n",
            "In a future version of pandas all arguments of DataFrame.drop except for the argument 'labels' will be keyword-only\n"
          ]
        }
      ]
    },
    {
      "cell_type": "code",
      "source": [
        "#Данные одного на тест\n",
        "d_act = CleanDataToLearning(d_act, col_to_drop_m+collinear_features+missing_features+single_features, top_activity)\n",
        "X_test, y_test = CutX_Y(d_act)"
      ],
      "metadata": {
        "id": "XMj65bD1yY2u",
        "colab": {
          "base_uri": "https://localhost:8080/"
        },
        "outputId": "ab5e4d58-9c0f-49a2-848c-46c54f4ec3ff"
      },
      "execution_count": null,
      "outputs": [
        {
          "output_type": "stream",
          "name": "stderr",
          "text": [
            "In a future version of pandas all arguments of DataFrame.drop except for the argument 'labels' will be keyword-only\n",
            "\n",
            "A value is trying to be set on a copy of a slice from a DataFrame\n",
            "\n",
            "See the caveats in the documentation: https://pandas.pydata.org/pandas-docs/stable/user_guide/indexing.html#returning-a-view-versus-a-copy\n",
            "In a future version of pandas all arguments of DataFrame.drop except for the argument 'labels' will be keyword-only\n"
          ]
        }
      ]
    },
    {
      "cell_type": "code",
      "source": [
        "X_train, X_val, y_train, y_val = train_test_split(X_train, y_train, test_size=0.20) # разделм на тренировочную и валидационную"
      ],
      "metadata": {
        "id": "G_5oGp60wSA6"
      },
      "execution_count": null,
      "outputs": []
    },
    {
      "cell_type": "markdown",
      "source": [
        "## Модели"
      ],
      "metadata": {
        "id": "p2C7-sx3BYtA"
      }
    },
    {
      "cell_type": "code",
      "source": [
        "def ModelCatBoostClass(X_train, X_val, y_train, y_val, cat_features):\n",
        "  train_dataset = Pool(data=X_train,\n",
        "                     label=y_train,\n",
        "                     cat_features=cat_features)\n",
        "\n",
        "  eval_dataset = Pool(data=X_val,\n",
        "                    label=y_val,\n",
        "                    cat_features=cat_features)\n",
        "\n",
        "  model_CBC = ctb.CatBoostClassifier(iterations=100,\n",
        "                           learning_rate=1,\n",
        "                           depth=4,\n",
        "                           loss_function='MultiClass')\n",
        "  model_CBC.fit(X_train, y_train)\n",
        "  return model_CBC"
      ],
      "metadata": {
        "id": "SqO8RVHjBe8v"
      },
      "execution_count": null,
      "outputs": []
    },
    {
      "cell_type": "markdown",
      "source": [
        "## Обучение"
      ],
      "metadata": {
        "id": "XV5oHkCzBgmJ"
      }
    },
    {
      "cell_type": "code",
      "source": [
        "#Обучение модели\n",
        "modelCBS = ModelCatBoostClass(X_train, X_val, y_train, y_val, categorical_feature)"
      ],
      "metadata": {
        "id": "39BjeXfHBlY-",
        "colab": {
          "base_uri": "https://localhost:8080/"
        },
        "outputId": "ec519dea-bda9-48e6-e79b-ebe0137ccb80"
      },
      "execution_count": null,
      "outputs": [
        {
          "output_type": "stream",
          "name": "stdout",
          "text": [
            "0:\tlearn: 1.1947237\ttotal: 50.6ms\tremaining: 5s\n",
            "1:\tlearn: 0.9356717\ttotal: 53.8ms\tremaining: 2.64s\n",
            "2:\tlearn: 0.7474891\ttotal: 57.2ms\tremaining: 1.85s\n",
            "3:\tlearn: 0.6447699\ttotal: 60.4ms\tremaining: 1.45s\n",
            "4:\tlearn: 0.6084380\ttotal: 63.4ms\tremaining: 1.2s\n",
            "5:\tlearn: 0.5684499\ttotal: 66.6ms\tremaining: 1.04s\n",
            "6:\tlearn: 0.5413477\ttotal: 69.6ms\tremaining: 925ms\n",
            "7:\tlearn: 0.5122031\ttotal: 72.7ms\tremaining: 836ms\n",
            "8:\tlearn: 0.4900500\ttotal: 76ms\tremaining: 768ms\n",
            "9:\tlearn: 0.4665941\ttotal: 79ms\tremaining: 711ms\n",
            "10:\tlearn: 0.4401324\ttotal: 82.1ms\tremaining: 664ms\n",
            "11:\tlearn: 0.4280878\ttotal: 85.3ms\tremaining: 626ms\n",
            "12:\tlearn: 0.4228629\ttotal: 88.3ms\tremaining: 591ms\n",
            "13:\tlearn: 0.4060985\ttotal: 91.3ms\tremaining: 561ms\n",
            "14:\tlearn: 0.3789491\ttotal: 94.5ms\tremaining: 536ms\n",
            "15:\tlearn: 0.3708691\ttotal: 97.5ms\tremaining: 512ms\n",
            "16:\tlearn: 0.3485086\ttotal: 100ms\tremaining: 490ms\n",
            "17:\tlearn: 0.3392041\ttotal: 104ms\tremaining: 472ms\n",
            "18:\tlearn: 0.3295842\ttotal: 107ms\tremaining: 455ms\n",
            "19:\tlearn: 0.3141119\ttotal: 110ms\tremaining: 440ms\n",
            "20:\tlearn: 0.3093279\ttotal: 113ms\tremaining: 426ms\n",
            "21:\tlearn: 0.3025299\ttotal: 116ms\tremaining: 412ms\n",
            "22:\tlearn: 0.2945086\ttotal: 119ms\tremaining: 399ms\n",
            "23:\tlearn: 0.2872481\ttotal: 122ms\tremaining: 387ms\n",
            "24:\tlearn: 0.2823407\ttotal: 125ms\tremaining: 376ms\n",
            "25:\tlearn: 0.2725268\ttotal: 128ms\tremaining: 366ms\n",
            "26:\tlearn: 0.2639367\ttotal: 132ms\tremaining: 356ms\n",
            "27:\tlearn: 0.2611227\ttotal: 135ms\tremaining: 346ms\n",
            "28:\tlearn: 0.2508172\ttotal: 138ms\tremaining: 337ms\n",
            "29:\tlearn: 0.2469672\ttotal: 141ms\tremaining: 328ms\n",
            "30:\tlearn: 0.2428287\ttotal: 144ms\tremaining: 320ms\n",
            "31:\tlearn: 0.2382499\ttotal: 147ms\tremaining: 312ms\n",
            "32:\tlearn: 0.2338279\ttotal: 150ms\tremaining: 305ms\n",
            "33:\tlearn: 0.2309685\ttotal: 153ms\tremaining: 297ms\n",
            "34:\tlearn: 0.2258075\ttotal: 156ms\tremaining: 290ms\n",
            "35:\tlearn: 0.2235920\ttotal: 159ms\tremaining: 283ms\n",
            "36:\tlearn: 0.2195992\ttotal: 163ms\tremaining: 277ms\n",
            "37:\tlearn: 0.2173643\ttotal: 166ms\tremaining: 271ms\n",
            "38:\tlearn: 0.2123203\ttotal: 169ms\tremaining: 265ms\n",
            "39:\tlearn: 0.2089068\ttotal: 173ms\tremaining: 259ms\n",
            "40:\tlearn: 0.2044118\ttotal: 176ms\tremaining: 253ms\n",
            "41:\tlearn: 0.2000882\ttotal: 179ms\tremaining: 247ms\n",
            "42:\tlearn: 0.1985379\ttotal: 182ms\tremaining: 241ms\n",
            "43:\tlearn: 0.1974727\ttotal: 185ms\tremaining: 235ms\n",
            "44:\tlearn: 0.1956084\ttotal: 188ms\tremaining: 230ms\n",
            "45:\tlearn: 0.1871489\ttotal: 191ms\tremaining: 224ms\n",
            "46:\tlearn: 0.1845880\ttotal: 194ms\tremaining: 219ms\n",
            "47:\tlearn: 0.1799000\ttotal: 197ms\tremaining: 214ms\n",
            "48:\tlearn: 0.1771770\ttotal: 201ms\tremaining: 209ms\n",
            "49:\tlearn: 0.1764275\ttotal: 204ms\tremaining: 204ms\n",
            "50:\tlearn: 0.1751183\ttotal: 207ms\tremaining: 199ms\n",
            "51:\tlearn: 0.1736381\ttotal: 210ms\tremaining: 194ms\n",
            "52:\tlearn: 0.1708601\ttotal: 213ms\tremaining: 189ms\n",
            "53:\tlearn: 0.1666391\ttotal: 217ms\tremaining: 185ms\n",
            "54:\tlearn: 0.1647882\ttotal: 220ms\tremaining: 180ms\n",
            "55:\tlearn: 0.1614562\ttotal: 223ms\tremaining: 175ms\n",
            "56:\tlearn: 0.1586310\ttotal: 228ms\tremaining: 172ms\n",
            "57:\tlearn: 0.1567136\ttotal: 231ms\tremaining: 168ms\n",
            "58:\tlearn: 0.1534569\ttotal: 235ms\tremaining: 163ms\n",
            "59:\tlearn: 0.1519156\ttotal: 239ms\tremaining: 159ms\n",
            "60:\tlearn: 0.1480035\ttotal: 244ms\tremaining: 156ms\n",
            "61:\tlearn: 0.1458716\ttotal: 247ms\tremaining: 151ms\n",
            "62:\tlearn: 0.1434799\ttotal: 250ms\tremaining: 147ms\n",
            "63:\tlearn: 0.1416720\ttotal: 253ms\tremaining: 143ms\n",
            "64:\tlearn: 0.1406780\ttotal: 256ms\tremaining: 138ms\n",
            "65:\tlearn: 0.1392011\ttotal: 260ms\tremaining: 134ms\n",
            "66:\tlearn: 0.1385176\ttotal: 263ms\tremaining: 129ms\n",
            "67:\tlearn: 0.1356991\ttotal: 266ms\tremaining: 125ms\n",
            "68:\tlearn: 0.1339217\ttotal: 269ms\tremaining: 121ms\n",
            "69:\tlearn: 0.1314225\ttotal: 274ms\tremaining: 117ms\n",
            "70:\tlearn: 0.1299390\ttotal: 277ms\tremaining: 113ms\n",
            "71:\tlearn: 0.1255250\ttotal: 280ms\tremaining: 109ms\n",
            "72:\tlearn: 0.1243501\ttotal: 283ms\tremaining: 105ms\n",
            "73:\tlearn: 0.1239046\ttotal: 286ms\tremaining: 101ms\n",
            "74:\tlearn: 0.1227342\ttotal: 289ms\tremaining: 96.4ms\n",
            "75:\tlearn: 0.1218589\ttotal: 293ms\tremaining: 92.4ms\n",
            "76:\tlearn: 0.1182537\ttotal: 296ms\tremaining: 88.3ms\n",
            "77:\tlearn: 0.1150158\ttotal: 299ms\tremaining: 84.3ms\n",
            "78:\tlearn: 0.1132995\ttotal: 302ms\tremaining: 80.3ms\n",
            "79:\tlearn: 0.1122266\ttotal: 305ms\tremaining: 76.3ms\n",
            "80:\tlearn: 0.1112259\ttotal: 308ms\tremaining: 72.3ms\n",
            "81:\tlearn: 0.1090650\ttotal: 312ms\tremaining: 68.4ms\n",
            "82:\tlearn: 0.1076927\ttotal: 318ms\tremaining: 65.1ms\n",
            "83:\tlearn: 0.1049714\ttotal: 321ms\tremaining: 61.1ms\n",
            "84:\tlearn: 0.1039535\ttotal: 324ms\tremaining: 57.2ms\n",
            "85:\tlearn: 0.1034532\ttotal: 327ms\tremaining: 53.3ms\n",
            "86:\tlearn: 0.1025179\ttotal: 330ms\tremaining: 49.4ms\n",
            "87:\tlearn: 0.1006722\ttotal: 334ms\tremaining: 45.5ms\n",
            "88:\tlearn: 0.0999394\ttotal: 337ms\tremaining: 41.6ms\n",
            "89:\tlearn: 0.0987659\ttotal: 340ms\tremaining: 37.8ms\n",
            "90:\tlearn: 0.0981604\ttotal: 344ms\tremaining: 34ms\n",
            "91:\tlearn: 0.0956326\ttotal: 347ms\tremaining: 30.2ms\n",
            "92:\tlearn: 0.0939471\ttotal: 351ms\tremaining: 26.4ms\n",
            "93:\tlearn: 0.0931364\ttotal: 354ms\tremaining: 22.6ms\n",
            "94:\tlearn: 0.0922389\ttotal: 357ms\tremaining: 18.8ms\n",
            "95:\tlearn: 0.0914026\ttotal: 360ms\tremaining: 15ms\n",
            "96:\tlearn: 0.0893193\ttotal: 363ms\tremaining: 11.2ms\n",
            "97:\tlearn: 0.0884905\ttotal: 367ms\tremaining: 7.48ms\n",
            "98:\tlearn: 0.0874851\ttotal: 370ms\tremaining: 3.74ms\n",
            "99:\tlearn: 0.0866943\ttotal: 373ms\tremaining: 0us\n"
          ]
        }
      ]
    },
    {
      "cell_type": "markdown",
      "source": [
        "##Метрики"
      ],
      "metadata": {
        "id": "qeWsyFguFJsw"
      }
    },
    {
      "cell_type": "code",
      "source": [
        "#Метрики\n",
        "expected_y  = y_test\n",
        "predicted_y = modelCBS.predict(X_test)\n",
        "print(metrics.classification_report(expected_y, predicted_y))\n",
        "print(metrics.confusion_matrix(expected_y, predicted_y))"
      ],
      "metadata": {
        "colab": {
          "base_uri": "https://localhost:8080/"
        },
        "id": "WJiE-DV_vv5f",
        "outputId": "67075abf-a376-4ebc-9fcd-59897502084c"
      },
      "execution_count": null,
      "outputs": [
        {
          "output_type": "stream",
          "name": "stdout",
          "text": [
            "              precision    recall  f1-score   support\n",
            "\n",
            "Inline Skate       0.82      0.38      0.51        24\n",
            "  Nordic Ski       0.85      0.91      0.88        95\n",
            "        Ride       0.90      0.91      0.90       130\n",
            "  Roller Ski       0.79      0.93      0.86        29\n",
            "         Run       0.89      0.92      0.91       185\n",
            "        Walk       0.58      0.44      0.50        16\n",
            "     Workout       0.67      0.50      0.57         8\n",
            "\n",
            "    accuracy                           0.87       487\n",
            "   macro avg       0.79      0.71      0.73       487\n",
            "weighted avg       0.86      0.87      0.86       487\n",
            "\n",
            "[[  9   4   3   2   4   2   0]\n",
            " [  0  86   3   2   4   0   0]\n",
            " [  1   2 118   1   7   0   1]\n",
            " [  0   2   0  27   0   0   0]\n",
            " [  1   4   7   2 171   0   0]\n",
            " [  0   2   0   0   6   7   1]\n",
            " [  0   1   0   0   0   3   4]]\n"
          ]
        }
      ]
    },
    {
      "cell_type": "code",
      "source": [
        "y_to_lab = expected_y.unique()\n",
        "y_to_lab.sort(axis=0)\n",
        "fig = plt.figure(figsize=(8,8), dpi = 200)\n",
        "matplotlib.rc('xtick', labelsize=20) \n",
        "matplotlib.rc('ytick', labelsize=20) \n",
        "sns.heatmap(metrics.confusion_matrix(y_test, modelCBS.predict(X_test)), annot=True, fmt=\"d\", cmap=\"Greens\", xticklabels=y_to_lab, yticklabels =y_to_lab)\n",
        "plt.ylabel(\"Real value\")\n",
        "plt.xlabel(\"Predicted value\")\n"
      ],
      "metadata": {
        "colab": {
          "base_uri": "https://localhost:8080/"
        },
        "id": "kdPEy4bmr0zx",
        "outputId": "78be761f-c3f3-459d-cbe3-08bd7ee4baf2"
      },
      "execution_count": null,
      "outputs": [
        {
          "output_type": "execute_result",
          "data": {
            "text/plain": [
              "Text(0.5, 115.44444444444443, 'Predicted value')"
            ]
          },
          "metadata": {},
          "execution_count": 25
        }
      ]
    },
    {
      "cell_type": "code",
      "source": [
        "plt.savefig(\"con_mtx.png\", format = 'png', dpi=200)"
      ],
      "metadata": {
        "id": "if5bLLEJWjz4"
      },
      "execution_count": null,
      "outputs": []
    },
    {
      "cell_type": "markdown",
      "source": [
        "# Визуализация - не актуально - решил отказаться - не имеет отношения к анализу"
      ],
      "metadata": {
        "id": "cgUpYPGwA_Em"
      }
    },
    {
      "cell_type": "code",
      "source": [
        "allDf_visual"
      ],
      "metadata": {
        "id": "z5uIxpGJWzlm"
      },
      "execution_count": null,
      "outputs": []
    },
    {
      "cell_type": "code",
      "source": [
        "def unpack_gz(in_file_name):\n",
        "  gzip_file = gzip.GzipFile(in_file_name, 'rb')\n",
        "  data = gzip_file.read()\n",
        "  return data.decode('utf-8')"
      ],
      "metadata": {
        "id": "tDsUXe7r_JAo"
      },
      "execution_count": null,
      "outputs": []
    },
    {
      "cell_type": "code",
      "source": [
        "gpx_file_1= unpack_gz('./activities/227157048.gpx.gz')\n",
        "gpx_file_2= unpack_gz('./activities/227150014.gpx.gz')"
      ],
      "metadata": {
        "id": "NtL3FP7BMWmv"
      },
      "execution_count": null,
      "outputs": []
    },
    {
      "cell_type": "code",
      "source": [
        "tcx_file_1= unpack_gz('./activities/325708135.tcx.gz')"
      ],
      "metadata": {
        "id": "l5biH_pvf36W"
      },
      "execution_count": null,
      "outputs": []
    },
    {
      "cell_type": "code",
      "source": [
        "import tcxparser\n",
        "tcx = tcxparser.TCXParser(tcx_file_1)"
      ],
      "metadata": {
        "id": "eRfImIw6faRB"
      },
      "execution_count": null,
      "outputs": []
    },
    {
      "cell_type": "code",
      "source": [
        "import gpxpy\n",
        "import gpxpy.gpx\n",
        "\n",
        "def process_gpx_to_df(file_content):\n",
        "  gpx = gpxpy.parse(file_content) \n",
        " \n",
        "  track = gpx.tracks[0]\n",
        "  segment = track.segments[0]\n",
        "  data = []\n",
        "  segment_length = segment.length_3d()\n",
        "  for point_idx, point in enumerate(segment.points):\n",
        "    data.append([point.longitude, point.latitude,point.elevation,point.time, segment.get_speed(point_idx)])\n",
        "    columns = ['Longitude', 'Latitude', 'Altitude', 'Time', 'Speed']\n",
        "    gpx_df = pd.DataFrame(data, columns=columns)\n",
        " \n",
        "  points = []\n",
        "  for track in gpx.tracks:\n",
        "    for segment in track.segments:\n",
        "      for point in segment.points:\n",
        "        points.append(tuple([point.latitude, point.longitude]))\n",
        "  return gpx_df, points"
      ],
      "metadata": {
        "id": "JtlWCdJTE49o"
      },
      "execution_count": null,
      "outputs": []
    },
    {
      "cell_type": "code",
      "source": [
        "df_to_plt_1, points_to_plt_1 = process_gpx_to_df(gpx_file_1)\n",
        "df_to_plt_2, points_to_plt_2 = process_gpx_to_df(gpx_file_2)"
      ],
      "metadata": {
        "id": "oXZ6DkUbNehf"
      },
      "execution_count": null,
      "outputs": []
    },
    {
      "cell_type": "code",
      "source": [
        "df_to_plt_1"
      ],
      "metadata": {
        "colab": {
          "base_uri": "https://localhost:8080/",
          "height": 112
        },
        "id": "xjPZAMUfeQH4",
        "outputId": "5537300a-b940-4fae-bda7-192338d585ba"
      },
      "execution_count": null,
      "outputs": [
        {
          "output_type": "execute_result",
          "data": {
            "text/html": [
              "\n",
              "  <div id=\"df-a4370a02-e146-421e-9c1d-ea30e4bf236f\">\n",
              "    <div class=\"colab-df-container\">\n",
              "      <div>\n",
              "<style scoped>\n",
              "    .dataframe tbody tr th:only-of-type {\n",
              "        vertical-align: middle;\n",
              "    }\n",
              "\n",
              "    .dataframe tbody tr th {\n",
              "        vertical-align: top;\n",
              "    }\n",
              "\n",
              "    .dataframe thead th {\n",
              "        text-align: right;\n",
              "    }\n",
              "</style>\n",
              "<table border=\"1\" class=\"dataframe\">\n",
              "  <thead>\n",
              "    <tr style=\"text-align: right;\">\n",
              "      <th></th>\n",
              "      <th>Longitude</th>\n",
              "      <th>Latitude</th>\n",
              "      <th>Altitude</th>\n",
              "      <th>Time</th>\n",
              "      <th>Speed</th>\n",
              "    </tr>\n",
              "  </thead>\n",
              "  <tbody>\n",
              "    <tr>\n",
              "      <th>0</th>\n",
              "      <td>75.190428</td>\n",
              "      <td>61.238244</td>\n",
              "      <td>39.0</td>\n",
              "      <td>2014-01-08 08:21:52+00:00</td>\n",
              "      <td>0.364655</td>\n",
              "    </tr>\n",
              "    <tr>\n",
              "      <th>1</th>\n",
              "      <td>75.190450</td>\n",
              "      <td>61.238213</td>\n",
              "      <td>39.0</td>\n",
              "      <td>2014-01-08 08:22:02+00:00</td>\n",
              "      <td>0.364655</td>\n",
              "    </tr>\n",
              "  </tbody>\n",
              "</table>\n",
              "</div>\n",
              "      <button class=\"colab-df-convert\" onclick=\"convertToInteractive('df-a4370a02-e146-421e-9c1d-ea30e4bf236f')\"\n",
              "              title=\"Convert this dataframe to an interactive table.\"\n",
              "              style=\"display:none;\">\n",
              "        \n",
              "  <svg xmlns=\"http://www.w3.org/2000/svg\" height=\"24px\"viewBox=\"0 0 24 24\"\n",
              "       width=\"24px\">\n",
              "    <path d=\"M0 0h24v24H0V0z\" fill=\"none\"/>\n",
              "    <path d=\"M18.56 5.44l.94 2.06.94-2.06 2.06-.94-2.06-.94-.94-2.06-.94 2.06-2.06.94zm-11 1L8.5 8.5l.94-2.06 2.06-.94-2.06-.94L8.5 2.5l-.94 2.06-2.06.94zm10 10l.94 2.06.94-2.06 2.06-.94-2.06-.94-.94-2.06-.94 2.06-2.06.94z\"/><path d=\"M17.41 7.96l-1.37-1.37c-.4-.4-.92-.59-1.43-.59-.52 0-1.04.2-1.43.59L10.3 9.45l-7.72 7.72c-.78.78-.78 2.05 0 2.83L4 21.41c.39.39.9.59 1.41.59.51 0 1.02-.2 1.41-.59l7.78-7.78 2.81-2.81c.8-.78.8-2.07 0-2.86zM5.41 20L4 18.59l7.72-7.72 1.47 1.35L5.41 20z\"/>\n",
              "  </svg>\n",
              "      </button>\n",
              "      \n",
              "  <style>\n",
              "    .colab-df-container {\n",
              "      display:flex;\n",
              "      flex-wrap:wrap;\n",
              "      gap: 12px;\n",
              "    }\n",
              "\n",
              "    .colab-df-convert {\n",
              "      background-color: #E8F0FE;\n",
              "      border: none;\n",
              "      border-radius: 50%;\n",
              "      cursor: pointer;\n",
              "      display: none;\n",
              "      fill: #1967D2;\n",
              "      height: 32px;\n",
              "      padding: 0 0 0 0;\n",
              "      width: 32px;\n",
              "    }\n",
              "\n",
              "    .colab-df-convert:hover {\n",
              "      background-color: #E2EBFA;\n",
              "      box-shadow: 0px 1px 2px rgba(60, 64, 67, 0.3), 0px 1px 3px 1px rgba(60, 64, 67, 0.15);\n",
              "      fill: #174EA6;\n",
              "    }\n",
              "\n",
              "    [theme=dark] .colab-df-convert {\n",
              "      background-color: #3B4455;\n",
              "      fill: #D2E3FC;\n",
              "    }\n",
              "\n",
              "    [theme=dark] .colab-df-convert:hover {\n",
              "      background-color: #434B5C;\n",
              "      box-shadow: 0px 1px 3px 1px rgba(0, 0, 0, 0.15);\n",
              "      filter: drop-shadow(0px 1px 2px rgba(0, 0, 0, 0.3));\n",
              "      fill: #FFFFFF;\n",
              "    }\n",
              "  </style>\n",
              "\n",
              "      <script>\n",
              "        const buttonEl =\n",
              "          document.querySelector('#df-a4370a02-e146-421e-9c1d-ea30e4bf236f button.colab-df-convert');\n",
              "        buttonEl.style.display =\n",
              "          google.colab.kernel.accessAllowed ? 'block' : 'none';\n",
              "\n",
              "        async function convertToInteractive(key) {\n",
              "          const element = document.querySelector('#df-a4370a02-e146-421e-9c1d-ea30e4bf236f');\n",
              "          const dataTable =\n",
              "            await google.colab.kernel.invokeFunction('convertToInteractive',\n",
              "                                                     [key], {});\n",
              "          if (!dataTable) return;\n",
              "\n",
              "          const docLinkHtml = 'Like what you see? Visit the ' +\n",
              "            '<a target=\"_blank\" href=https://colab.research.google.com/notebooks/data_table.ipynb>data table notebook</a>'\n",
              "            + ' to learn more about interactive tables.';\n",
              "          element.innerHTML = '';\n",
              "          dataTable['output_type'] = 'display_data';\n",
              "          await google.colab.output.renderOutput(dataTable, element);\n",
              "          const docLink = document.createElement('div');\n",
              "          docLink.innerHTML = docLinkHtml;\n",
              "          element.appendChild(docLink);\n",
              "        }\n",
              "      </script>\n",
              "    </div>\n",
              "  </div>\n",
              "  "
            ],
            "text/plain": [
              "   Longitude   Latitude  Altitude                      Time     Speed\n",
              "0  75.190428  61.238244      39.0 2014-01-08 08:21:52+00:00  0.364655\n",
              "1  75.190450  61.238213      39.0 2014-01-08 08:22:02+00:00  0.364655"
            ]
          },
          "metadata": {},
          "execution_count": 24
        }
      ]
    },
    {
      "cell_type": "code",
      "source": [
        "mymap = folium.Map( location=[ df_to_plt_1.Latitude.mean(), df_to_plt_1.Longitude.mean() ], zoom_start=10, tiles=None, width = '60%', height = '60%') #\n",
        "folium.TileLayer('openstreetmap', name='OpenStreet Map').add_to(mymap)"
      ],
      "metadata": {
        "colab": {
          "base_uri": "https://localhost:8080/"
        },
        "id": "uuny57npFCL5",
        "outputId": "d6ebcd6b-00a3-4440-f054-b89f96077f1c"
      },
      "execution_count": null,
      "outputs": [
        {
          "output_type": "execute_result",
          "data": {
            "text/plain": [
              "<folium.raster_layers.TileLayer at 0x7f53659a24d0>"
            ]
          },
          "metadata": {},
          "execution_count": 55
        }
      ]
    },
    {
      "cell_type": "code",
      "source": [
        "folium.PolyLine(points_to_plt_2, color='red', weight=4.5, opacity=.5).add_to(mymap)\n",
        "folium.PolyLine(points_to_plt_1, color='blue', weight=4.5, opacity=.5).add_to(mymap)"
      ],
      "metadata": {
        "colab": {
          "base_uri": "https://localhost:8080/"
        },
        "id": "AJV2kWDYOkrU",
        "outputId": "110c0f3a-94f7-4e64-ae2c-4e8a8335695c"
      },
      "execution_count": null,
      "outputs": [
        {
          "output_type": "execute_result",
          "data": {
            "text/plain": [
              "<folium.vector_layers.PolyLine at 0x7f5365f9d690>"
            ]
          },
          "metadata": {},
          "execution_count": 56
        }
      ]
    },
    {
      "cell_type": "code",
      "source": [
        "folium.Circle(location=[ df_to_plt_1.Latitude.mean(), df_to_plt_1.Longitude.mean()], radius = 1000, color = 'blue', fill = True, fill_opacity = 0.8, popup='Nordic Ski').add_to(mymap)\n",
        "folium.Circle(location=[ df_to_plt_2.Latitude.mean(), df_to_plt_2.Longitude.mean()], radius = 1000, color = 'red', fill = True, fill_opacity = 0.8, popup='Some Act').add_to(mymap)"
      ],
      "metadata": {
        "colab": {
          "base_uri": "https://localhost:8080/"
        },
        "id": "Bj56MgaJQh2P",
        "outputId": "cdb26aa9-6e50-419f-fa87-8cd9db7f3a6c"
      },
      "execution_count": null,
      "outputs": [
        {
          "output_type": "execute_result",
          "data": {
            "text/plain": [
              "<folium.vector_layers.Circle at 0x7f5363892590>"
            ]
          },
          "metadata": {},
          "execution_count": 57
        }
      ]
    },
    {
      "cell_type": "code",
      "source": [
        "mymap.png_enabled = False"
      ],
      "metadata": {
        "id": "vy4aXf2AW5VL"
      },
      "execution_count": null,
      "outputs": []
    },
    {
      "cell_type": "code",
      "source": [
        "mymap"
      ],
      "metadata": {
        "colab": {
          "base_uri": "https://localhost:8080/",
          "height": 1000
        },
        "id": "hMC1CIwnNkbl",
        "outputId": "8c038b94-5ebc-4a11-d936-17e74783874b"
      },
      "execution_count": null,
      "outputs": [
        {
          "output_type": "execute_result",
          "data": {
            "text/html": [
              "<div style=\"width:100%;\"><div style=\"position:relative;width:100%;height:0;padding-bottom:60%;\"><span style=\"color:#565656\">Make this Notebook Trusted to load map: File -> Trust Notebook</span><iframe src=\"about:blank\" style=\"position:absolute;width:100%;height:100%;left:0;top:0;border:none !important;\" data-html=%3C%21DOCTYPE%20html%3E%0A%3Chead%3E%20%20%20%20%0A%20%20%20%20%3Cmeta%20http-equiv%3D%22content-type%22%20content%3D%22text/html%3B%20charset%3DUTF-8%22%20/%3E%0A%20%20%20%20%3Cscript%3EL_PREFER_CANVAS%3Dfalse%3B%20L_NO_TOUCH%3Dfalse%3B%20L_DISABLE_3D%3Dfalse%3B%3C/script%3E%0A%20%20%20%20%3Cscript%20src%3D%22https%3A//cdn.jsdelivr.net/npm/leaflet%401.4.0/dist/leaflet.js%22%3E%3C/script%3E%0A%20%20%20%20%3Cscript%20src%3D%22https%3A//code.jquery.com/jquery-1.12.4.min.js%22%3E%3C/script%3E%0A%20%20%20%20%3Cscript%20src%3D%22https%3A//maxcdn.bootstrapcdn.com/bootstrap/3.2.0/js/bootstrap.min.js%22%3E%3C/script%3E%0A%20%20%20%20%3Cscript%20src%3D%22https%3A//cdnjs.cloudflare.com/ajax/libs/Leaflet.awesome-markers/2.0.2/leaflet.awesome-markers.js%22%3E%3C/script%3E%0A%20%20%20%20%3Clink%20rel%3D%22stylesheet%22%20href%3D%22https%3A//cdn.jsdelivr.net/npm/leaflet%401.4.0/dist/leaflet.css%22/%3E%0A%20%20%20%20%3Clink%20rel%3D%22stylesheet%22%20href%3D%22https%3A//maxcdn.bootstrapcdn.com/bootstrap/3.2.0/css/bootstrap.min.css%22/%3E%0A%20%20%20%20%3Clink%20rel%3D%22stylesheet%22%20href%3D%22https%3A//maxcdn.bootstrapcdn.com/bootstrap/3.2.0/css/bootstrap-theme.min.css%22/%3E%0A%20%20%20%20%3Clink%20rel%3D%22stylesheet%22%20href%3D%22https%3A//maxcdn.bootstrapcdn.com/font-awesome/4.6.3/css/font-awesome.min.css%22/%3E%0A%20%20%20%20%3Clink%20rel%3D%22stylesheet%22%20href%3D%22https%3A//cdnjs.cloudflare.com/ajax/libs/Leaflet.awesome-markers/2.0.2/leaflet.awesome-markers.css%22/%3E%0A%20%20%20%20%3Clink%20rel%3D%22stylesheet%22%20href%3D%22https%3A//rawcdn.githack.com/python-visualization/folium/master/folium/templates/leaflet.awesome.rotate.css%22/%3E%0A%20%20%20%20%3Cstyle%3Ehtml%2C%20body%20%7Bwidth%3A%20100%25%3Bheight%3A%20100%25%3Bmargin%3A%200%3Bpadding%3A%200%3B%7D%3C/style%3E%0A%20%20%20%20%3Cstyle%3E%23map%20%7Bposition%3Aabsolute%3Btop%3A0%3Bbottom%3A0%3Bright%3A0%3Bleft%3A0%3B%7D%3C/style%3E%0A%20%20%20%20%0A%20%20%20%20%3Cmeta%20name%3D%22viewport%22%20content%3D%22width%3Ddevice-width%2C%0A%20%20%20%20%20%20%20%20initial-scale%3D1.0%2C%20maximum-scale%3D1.0%2C%20user-scalable%3Dno%22%20/%3E%0A%20%20%20%20%3Cstyle%3E%23map_8cbb4dba713042679e2c919af5638956%20%7B%0A%20%20%20%20%20%20%20%20position%3A%20relative%3B%0A%20%20%20%20%20%20%20%20width%3A%2060.0%25%3B%0A%20%20%20%20%20%20%20%20height%3A%2060.0%25%3B%0A%20%20%20%20%20%20%20%20left%3A%200.0%25%3B%0A%20%20%20%20%20%20%20%20top%3A%200.0%25%3B%0A%20%20%20%20%20%20%20%20%7D%0A%20%20%20%20%3C/style%3E%0A%3C/head%3E%0A%3Cbody%3E%20%20%20%20%0A%20%20%20%20%0A%20%20%20%20%3Cdiv%20class%3D%22folium-map%22%20id%3D%22map_8cbb4dba713042679e2c919af5638956%22%20%3E%3C/div%3E%0A%3C/body%3E%0A%3Cscript%3E%20%20%20%20%0A%20%20%20%20%0A%20%20%20%20%0A%20%20%20%20%20%20%20%20var%20bounds%20%3D%20null%3B%0A%20%20%20%20%0A%0A%20%20%20%20var%20map_8cbb4dba713042679e2c919af5638956%20%3D%20L.map%28%0A%20%20%20%20%20%20%20%20%27map_8cbb4dba713042679e2c919af5638956%27%2C%20%7B%0A%20%20%20%20%20%20%20%20center%3A%20%5B61.238228500000005%2C%2075.190439%5D%2C%0A%20%20%20%20%20%20%20%20zoom%3A%2010%2C%0A%20%20%20%20%20%20%20%20maxBounds%3A%20bounds%2C%0A%20%20%20%20%20%20%20%20layers%3A%20%5B%5D%2C%0A%20%20%20%20%20%20%20%20worldCopyJump%3A%20false%2C%0A%20%20%20%20%20%20%20%20crs%3A%20L.CRS.EPSG3857%2C%0A%20%20%20%20%20%20%20%20zoomControl%3A%20true%2C%0A%20%20%20%20%20%20%20%20%7D%29%3B%0A%0A%0A%20%20%20%20%0A%20%20%20%20var%20tile_layer_82190df8557f49fd8e9fa4261cee2fc6%20%3D%20L.tileLayer%28%0A%20%20%20%20%20%20%20%20%27https%3A//%7Bs%7D.tile.openstreetmap.org/%7Bz%7D/%7Bx%7D/%7By%7D.png%27%2C%0A%20%20%20%20%20%20%20%20%7B%0A%20%20%20%20%20%20%20%20%22attribution%22%3A%20null%2C%0A%20%20%20%20%20%20%20%20%22detectRetina%22%3A%20false%2C%0A%20%20%20%20%20%20%20%20%22maxNativeZoom%22%3A%2018%2C%0A%20%20%20%20%20%20%20%20%22maxZoom%22%3A%2018%2C%0A%20%20%20%20%20%20%20%20%22minZoom%22%3A%200%2C%0A%20%20%20%20%20%20%20%20%22noWrap%22%3A%20false%2C%0A%20%20%20%20%20%20%20%20%22opacity%22%3A%201%2C%0A%20%20%20%20%20%20%20%20%22subdomains%22%3A%20%22abc%22%2C%0A%20%20%20%20%20%20%20%20%22tms%22%3A%20false%0A%7D%29.addTo%28map_8cbb4dba713042679e2c919af5638956%29%3B%0A%20%20%20%20%0A%20%20%20%20%20%20%20%20%20%20%20%20%20%20%20%20var%20poly_line_cedcb7c6687a4f3aa8a7c58fb8a8a318%20%3D%20L.polyline%28%0A%20%20%20%20%20%20%20%20%20%20%20%20%20%20%20%20%20%20%20%20%5B%5B61.251016%2C%2075.163383%5D%2C%20%5B61.251113%2C%2075.16341%5D%2C%20%5B61.251026%2C%2075.163463%5D%2C%20%5B61.250923%2C%2075.163581%5D%2C%20%5B61.25098%2C%2075.163441%5D%2C%20%5B61.251061%2C%2075.163306%5D%2C%20%5B61.251113%2C%2075.163158%5D%2C%20%5B61.251131%2C%2075.162956%5D%2C%20%5B61.251108%2C%2075.162775%5D%2C%20%5B61.251084%2C%2075.16261%5D%2C%20%5B61.251045%2C%2075.162461%5D%2C%20%5B61.250998%2C%2075.162313%5D%2C%20%5B61.25094%2C%2075.162183%5D%2C%20%5B61.250886%2C%2075.162055%5D%2C%20%5B61.250843%2C%2075.16191%5D%2C%20%5B61.250773%2C%2075.161806%5D%2C%20%5B61.250718%2C%2075.161626%5D%2C%20%5B61.250663%2C%2075.161458%5D%2C%20%5B61.250631%2C%2075.161239%5D%2C%20%5B61.250633%2C%2075.161026%5D%2C%20%5B61.250641%2C%2075.16084%5D%2C%20%5B61.250613%2C%2075.160673%5D%2C%20%5B61.250536%2C%2075.160583%5D%2C%20%5B61.250453%2C%2075.160468%5D%2C%20%5B61.250391%2C%2075.160303%5D%2C%20%5B61.250321%2C%2075.16013%5D%2C%20%5B61.25027%2C%2075.159936%5D%2C%20%5B61.250203%2C%2075.159748%5D%2C%20%5B61.250136%2C%2075.159558%5D%2C%20%5B61.250103%2C%2075.159368%5D%2C%20%5B61.250066%2C%2075.159175%5D%2C%20%5B61.250015%2C%2075.159036%5D%2C%20%5B61.249918%2C%2075.158898%5D%2C%20%5B61.249836%2C%2075.158806%5D%2C%20%5B61.249761%2C%2075.158698%5D%2C%20%5B61.249689%2C%2075.158584%5D%2C%20%5B61.249598%2C%2075.158445%5D%2C%20%5B61.249518%2C%2075.158318%5D%2C%20%5B61.249443%2C%2075.158216%5D%2C%20%5B61.249351%2C%2075.1581%5D%2C%20%5B61.249284%2C%2075.158003%5D%2C%20%5B61.249196%2C%2075.157896%5D%2C%20%5B61.249111%2C%2075.157785%5D%2C%20%5B61.249021%2C%2075.157725%5D%2C%20%5B61.24893%2C%2075.157551%5D%2C%20%5B61.248855%2C%2075.157421%5D%2C%20%5B61.248788%2C%2075.157325%5D%2C%20%5B61.248698%2C%2075.157178%5D%2C%20%5B61.248606%2C%2075.157061%5D%2C%20%5B61.248523%2C%2075.15694%5D%2C%20%5B61.248436%2C%2075.156806%5D%2C%20%5B61.248361%2C%2075.156666%5D%2C%20%5B61.248278%2C%2075.156545%5D%2C%20%5B61.2482%2C%2075.156413%5D%2C%20%5B61.248133%2C%2075.156286%5D%2C%20%5B61.248065%2C%2075.15617%5D%2C%20%5B61.247998%2C%2075.156065%5D%2C%20%5B61.247933%2C%2075.155956%5D%2C%20%5B61.247853%2C%2075.155831%5D%2C%20%5B61.247785%2C%2075.155716%5D%2C%20%5B61.247723%2C%2075.155605%5D%2C%20%5B61.247651%2C%2075.155414%5D%2C%20%5B61.247576%2C%2075.155286%5D%2C%20%5B61.247493%2C%2075.155156%5D%2C%20%5B61.247413%2C%2075.15503%5D%2C%20%5B61.247325%2C%2075.15489%5D%2C%20%5B61.247236%2C%2075.154741%5D%2C%20%5B61.24715%2C%2075.154585%5D%2C%20%5B61.247063%2C%2075.154434%5D%2C%20%5B61.246976%2C%2075.154296%5D%2C%20%5B61.246886%2C%2075.154158%5D%2C%20%5B61.246796%2C%2075.154006%5D%2C%20%5B61.246708%2C%2075.153849%5D%2C%20%5B61.246613%2C%2075.153696%5D%2C%20%5B61.24653%2C%2075.153548%5D%2C%20%5B61.246448%2C%2075.153413%5D%2C%20%5B61.24636%2C%2075.153278%5D%2C%20%5B61.246275%2C%2075.153135%5D%2C%20%5B61.246188%2C%2075.15299%5D%2C%20%5B61.246098%2C%2075.152841%5D%2C%20%5B61.246005%2C%2075.152691%5D%2C%20%5B61.245916%2C%2075.152541%5D%2C%20%5B61.245828%2C%2075.1524%5D%2C%20%5B61.245739%2C%2075.152256%5D%2C%20%5B61.245648%2C%2075.152118%5D%2C%20%5B61.245556%2C%2075.151976%5D%2C%20%5B61.245463%2C%2075.151833%5D%2C%20%5B61.245374%2C%2075.151683%5D%2C%20%5B61.245284%2C%2075.151548%5D%2C%20%5B61.245194%2C%2075.15141%5D%2C%20%5B61.245101%2C%2075.151266%5D%2C%20%5B61.24501%2C%2075.151128%5D%2C%20%5B61.244928%2C%2075.150973%5D%2C%20%5B61.244838%2C%2075.15082%5D%2C%20%5B61.24475%2C%2075.150681%5D%2C%20%5B61.244666%2C%2075.150541%5D%2C%20%5B61.244583%2C%2075.150408%5D%2C%20%5B61.244488%2C%2075.150266%5D%2C%20%5B61.244405%2C%2075.150126%5D%2C%20%5B61.24432%2C%2075.149978%5D%2C%20%5B61.244231%2C%2075.149825%5D%2C%20%5B61.244141%2C%2075.149685%5D%2C%20%5B61.244053%2C%2075.149545%5D%2C%20%5B61.243963%2C%2075.149396%5D%2C%20%5B61.243874%2C%2075.14925%5D%2C%20%5B61.243783%2C%2075.149096%5D%2C%20%5B61.24369%2C%2075.14895%5D%2C%20%5B61.243596%2C%2075.148811%5D%2C%20%5B61.24351%2C%2075.148661%5D%2C%20%5B61.243418%2C%2075.148525%5D%2C%20%5B61.243328%2C%2075.148395%5D%2C%20%5B61.243241%2C%2075.148265%5D%2C%20%5B61.243158%2C%2075.148115%5D%2C%20%5B61.24307%2C%2075.147985%5D%2C%20%5B61.24298%2C%2075.14785%5D%2C%20%5B61.24289%2C%2075.147696%5D%2C%20%5B61.242796%2C%2075.147551%5D%2C%20%5B61.242703%2C%2075.147401%5D%2C%20%5B61.242606%2C%2075.147251%5D%2C%20%5B61.242506%2C%2075.147098%5D%2C%20%5B61.242406%2C%2075.146951%5D%2C%20%5B61.242306%2C%2075.146786%5D%2C%20%5B61.242205%2C%2075.146625%5D%2C%20%5B61.242106%2C%2075.146481%5D%2C%20%5B61.242008%2C%2075.146331%5D%2C%20%5B61.241906%2C%2075.14618%5D%2C%20%5B61.241805%2C%2075.146036%5D%2C%20%5B61.241698%2C%2075.1459%5D%2C%20%5B61.241588%2C%2075.145778%5D%2C%20%5B61.241471%2C%2075.145676%5D%2C%20%5B61.24135%2C%2075.145573%5D%2C%20%5B61.241228%2C%2075.145486%5D%2C%20%5B61.241101%2C%2075.145434%5D%2C%20%5B61.240976%2C%2075.145393%5D%2C%20%5B61.240845%2C%2075.145363%5D%2C%20%5B61.240713%2C%2075.145363%5D%2C%20%5B61.24059%2C%2075.145363%5D%2C%20%5B61.240464%2C%2075.145393%5D%2C%20%5B61.240343%2C%2075.14544%5D%2C%20%5B61.240216%2C%2075.145498%5D%2C%20%5B61.240098%2C%2075.145548%5D%2C%20%5B61.239986%2C%2075.145603%5D%2C%20%5B61.23987%2C%2075.14567%5D%2C%20%5B61.23975%2C%2075.145743%5D%2C%20%5B61.23963%2C%2075.145816%5D%2C%20%5B61.239511%2C%2075.145885%5D%2C%20%5B61.239386%2C%2075.145956%5D%2C%20%5B61.239261%2C%2075.146026%5D%2C%20%5B61.23914%2C%2075.146099%5D%2C%20%5B61.239015%2C%2075.146173%5D%2C%20%5B61.238891%2C%2075.146245%5D%2C%20%5B61.238771%2C%2075.146336%5D%2C%20%5B61.238653%2C%2075.146406%5D%2C%20%5B61.238531%2C%2075.14647%5D%2C%20%5B61.238401%2C%2075.146546%5D%2C%20%5B61.238271%2C%2075.146616%5D%2C%20%5B61.238143%2C%2075.146681%5D%2C%20%5B61.238016%2C%2075.146745%5D%2C%20%5B61.237894%2C%2075.146811%5D%2C%20%5B61.237773%2C%2075.146873%5D%2C%20%5B61.237645%2C%2075.146933%5D%2C%20%5B61.237521%2C%2075.147006%5D%2C%20%5B61.237405%2C%2075.147085%5D%2C%20%5B61.237286%2C%2075.147148%5D%2C%20%5B61.237159%2C%2075.147216%5D%2C%20%5B61.237045%2C%2075.14728%5D%2C%20%5B61.23693%2C%2075.14738%5D%2C%20%5B61.23681%2C%2075.147451%5D%2C%20%5B61.236688%2C%2075.14753%5D%2C%20%5B61.236563%2C%2075.147606%5D%2C%20%5B61.236435%2C%2075.147678%5D%2C%20%5B61.236308%2C%2075.147756%5D%2C%20%5B61.236176%2C%2075.147836%5D%2C%20%5B61.236051%2C%2075.147911%5D%2C%20%5B61.235921%2C%2075.147988%5D%2C%20%5B61.235793%2C%2075.148061%5D%2C%20%5B61.235666%2C%2075.148138%5D%2C%20%5B61.235538%2C%2075.148218%5D%2C%20%5B61.235411%2C%2075.148298%5D%2C%20%5B61.23529%2C%2075.148376%5D%2C%20%5B61.235166%2C%2075.148459%5D%2C%20%5B61.235036%2C%2075.148545%5D%2C%20%5B61.234913%2C%2075.148615%5D%2C%20%5B61.234791%2C%2075.148716%5D%2C%20%5B61.234671%2C%2075.148821%5D%2C%20%5B61.234548%2C%2075.148933%5D%2C%20%5B61.234424%2C%2075.149044%5D%2C%20%5B61.234298%2C%2075.149145%5D%2C%20%5B61.234181%2C%2075.149248%5D%2C%20%5B61.234068%2C%2075.149358%5D%2C%20%5B61.233953%2C%2075.149471%5D%2C%20%5B61.233838%2C%2075.149593%5D%2C%20%5B61.233726%2C%2075.149719%5D%2C%20%5B61.233614%2C%2075.149836%5D%2C%20%5B61.233501%2C%2075.149948%5D%2C%20%5B61.233391%2C%2075.150063%5D%2C%20%5B61.233284%2C%2075.150181%5D%2C%20%5B61.233174%2C%2075.150301%5D%2C%20%5B61.233061%2C%2075.150431%5D%2C%20%5B61.232951%2C%2075.150551%5D%2C%20%5B61.232841%2C%2075.150666%5D%2C%20%5B61.232741%2C%2075.150783%5D%2C%20%5B61.232638%2C%2075.150895%5D%2C%20%5B61.23254%2C%2075.151016%5D%2C%20%5B61.232446%2C%2075.151146%5D%2C%20%5B61.232353%2C%2075.15127%5D%2C%20%5B61.23226%2C%2075.151406%5D%2C%20%5B61.232166%2C%2075.151541%5D%2C%20%5B61.232075%2C%2075.151673%5D%2C%20%5B61.231989%2C%2075.15181%5D%2C%20%5B61.231903%2C%2075.151943%5D%2C%20%5B61.231815%2C%2075.152078%5D%2C%20%5B61.23173%2C%2075.152205%5D%2C%20%5B61.231646%2C%2075.152329%5D%2C%20%5B61.23156%2C%2075.152461%5D%2C%20%5B61.231473%2C%2075.152585%5D%2C%20%5B61.23139%2C%2075.152718%5D%2C%20%5B61.231305%2C%2075.152846%5D%2C%20%5B61.231221%2C%2075.152971%5D%2C%20%5B61.23114%2C%2075.153093%5D%2C%20%5B61.231051%2C%2075.153226%5D%2C%20%5B61.230963%2C%2075.153353%5D%2C%20%5B61.230876%2C%2075.153485%5D%2C%20%5B61.230788%2C%2075.153616%5D%2C%20%5B61.230703%2C%2075.153731%5D%2C%20%5B61.230615%2C%2075.153855%5D%2C%20%5B61.230525%2C%2075.153978%5D%2C%20%5B61.230441%2C%2075.154108%5D%2C%20%5B61.230354%2C%2075.154245%5D%2C%20%5B61.230268%2C%2075.15437%5D%2C%20%5B61.230173%2C%2075.154516%5D%2C%20%5B61.23008%2C%2075.154658%5D%2C%20%5B61.229981%2C%2075.154786%5D%2C%20%5B61.229893%2C%2075.15491%5D%2C%20%5B61.22981%2C%2075.155043%5D%2C%20%5B61.229723%2C%2075.155181%5D%2C%20%5B61.229636%2C%2075.155313%5D%2C%20%5B61.22955%2C%2075.155445%5D%2C%20%5B61.229461%2C%2075.155571%5D%2C%20%5B61.22938%2C%2075.155708%5D%2C%20%5B61.229296%2C%2075.155831%5D%2C%20%5B61.229211%2C%2075.155954%5D%2C%20%5B61.229123%2C%2075.156078%5D%2C%20%5B61.229033%2C%2075.156203%5D%2C%20%5B61.228933%2C%2075.156335%5D%2C%20%5B61.228835%2C%2075.156456%5D%2C%20%5B61.228748%2C%2075.15658%5D%2C%20%5B61.228666%2C%2075.156713%5D%2C%20%5B61.228578%2C%2075.156846%5D%2C%20%5B61.228491%2C%2075.156978%5D%2C%20%5B61.228405%2C%2075.157108%5D%2C%20%5B61.228315%2C%2075.157245%5D%2C%20%5B61.228228%2C%2075.157381%5D%2C%20%5B61.228138%2C%2075.157515%5D%2C%20%5B61.228051%2C%2075.157646%5D%2C%20%5B61.227965%2C%2075.15777%5D%2C%20%5B61.227876%2C%2075.157898%5D%2C%20%5B61.227788%2C%2075.158031%5D%2C%20%5B61.227695%2C%2075.15817%5D%2C%20%5B61.227601%2C%2075.158308%5D%2C%20%5B61.22751%2C%2075.158443%5D%2C%20%5B61.227413%2C%2075.158584%5D%2C%20%5B61.227318%2C%2075.158718%5D%2C%20%5B61.227229%2C%2075.158841%5D%2C%20%5B61.227143%2C%2075.158971%5D%2C%20%5B61.22706%2C%2075.1591%5D%2C%20%5B61.22697%2C%2075.159225%5D%2C%20%5B61.226878%2C%2075.159351%5D%2C%20%5B61.226791%2C%2075.159488%5D%2C%20%5B61.226708%2C%2075.159615%5D%2C%20%5B61.226621%2C%2075.159741%5D%2C%20%5B61.226535%2C%2075.159871%5D%2C%20%5B61.226448%2C%2075.160006%5D%2C%20%5B61.226361%2C%2075.160143%5D%2C%20%5B61.226276%2C%2075.160271%5D%2C%20%5B61.226188%2C%2075.160408%5D%2C%20%5B61.226098%2C%2075.16054%5D%2C%20%5B61.226009%2C%2075.160673%5D%2C%20%5B61.225919%2C%2075.160806%5D%2C%20%5B61.225836%2C%2075.160933%5D%2C%20%5B61.225755%2C%2075.161066%5D%2C%20%5B61.225665%2C%2075.161201%5D%2C%20%5B61.225578%2C%2075.16134%5D%2C%20%5B61.225488%2C%2075.161471%5D%2C%20%5B61.2254%2C%2075.161601%5D%2C%20%5B61.225315%2C%2075.161735%5D%2C%20%5B61.225226%2C%2075.161868%5D%2C%20%5B61.225139%2C%2075.161996%5D%2C%20%5B61.225058%2C%2075.162133%5D%2C%20%5B61.224976%2C%2075.162271%5D%2C%20%5B61.224891%2C%2075.16239%5D%2C%20%5B61.224805%2C%2075.162498%5D%2C%20%5B61.22473%2C%2075.162603%5D%2C%20%5B61.224658%2C%2075.162728%5D%2C%20%5B61.22459%2C%2075.162858%5D%2C%20%5B61.224511%2C%2075.162978%5D%2C%20%5B61.224423%2C%2075.163105%5D%2C%20%5B61.22434%2C%2075.16323%5D%2C%20%5B61.224264%2C%2075.163355%5D%2C%20%5B61.224181%2C%2075.163478%5D%2C%20%5B61.224088%2C%2075.163601%5D%2C%20%5B61.223998%2C%2075.163728%5D%2C%20%5B61.223908%2C%2075.163855%5D%2C%20%5B61.223814%2C%2075.16397%5D%2C%20%5B61.223728%2C%2075.164096%5D%2C%20%5B61.223634%2C%2075.164228%5D%2C%20%5B61.223544%2C%2075.16435%5D%2C%20%5B61.223456%2C%2075.164473%5D%2C%20%5B61.223371%2C%2075.164608%5D%2C%20%5B61.223285%2C%2075.164746%5D%2C%20%5B61.223195%2C%2075.164878%5D%2C%20%5B61.223105%2C%2075.165016%5D%2C%20%5B61.223011%2C%2075.165161%5D%2C%20%5B61.22292%2C%2075.165296%5D%2C%20%5B61.222823%2C%2075.165438%5D%2C%20%5B61.222726%2C%2075.165581%5D%2C%20%5B61.222636%2C%2075.165718%5D%2C%20%5B61.222545%2C%2075.165855%5D%2C%20%5B61.222445%2C%2075.166001%5D%2C%20%5B61.222341%2C%2075.166156%5D%2C%20%5B61.222236%2C%2075.166306%5D%2C%20%5B61.222126%2C%2075.166468%5D%2C%20%5B61.222021%2C%2075.16662%5D%2C%20%5B61.221918%2C%2075.166773%5D%2C%20%5B61.221816%2C%2075.166916%5D%2C%20%5B61.221711%2C%2075.167056%5D%2C%20%5B61.221608%2C%2075.167203%5D%2C%20%5B61.221508%2C%2075.167365%5D%2C%20%5B61.221405%2C%2075.167516%5D%2C%20%5B61.221303%2C%2075.167671%5D%2C%20%5B61.221201%2C%2075.167823%5D%2C%20%5B61.221098%2C%2075.167976%5D%2C%20%5B61.220993%2C%2075.168131%5D%2C%20%5B61.220893%2C%2075.168285%5D%2C%20%5B61.220793%2C%2075.168439%5D%2C%20%5B61.22069%2C%2075.16859%5D%2C%20%5B61.220583%2C%2075.168733%5D%2C%20%5B61.220483%2C%2075.168891%5D%2C%20%5B61.220389%2C%2075.169056%5D%2C%20%5B61.220296%2C%2075.169204%5D%2C%20%5B61.2202%2C%2075.169348%5D%2C%20%5B61.220106%2C%2075.16949%5D%2C%20%5B61.22001%2C%2075.169628%5D%2C%20%5B61.219915%2C%2075.169768%5D%2C%20%5B61.219825%2C%2075.169903%5D%2C%20%5B61.219735%2C%2075.170031%5D%2C%20%5B61.219646%2C%2075.170155%5D%2C%20%5B61.219558%2C%2075.170278%5D%2C%20%5B61.219471%2C%2075.170408%5D%2C%20%5B61.219384%2C%2075.170531%5D%2C%20%5B61.219303%2C%2075.170658%5D%2C%20%5B61.219216%2C%2075.170786%5D%2C%20%5B61.219129%2C%2075.170926%5D%2C%20%5B61.219043%2C%2075.17106%5D%2C%20%5B61.218961%2C%2075.171196%5D%2C%20%5B61.218878%2C%2075.171328%5D%2C%20%5B61.21878%2C%2075.171458%5D%2C%20%5B61.218683%2C%2075.171576%5D%2C%20%5B61.218601%2C%2075.171698%5D%2C%20%5B61.218518%2C%2075.171815%5D%2C%20%5B61.218436%2C%2075.171925%5D%2C%20%5B61.218363%2C%2075.172036%5D%2C%20%5B61.218285%2C%2075.172158%5D%2C%20%5B61.218201%2C%2075.17228%5D%2C%20%5B61.218128%2C%2075.172405%5D%2C%20%5B61.21806%2C%2075.172518%5D%2C%20%5B61.217974%2C%2075.172613%5D%2C%20%5B61.217893%2C%2075.172711%5D%2C%20%5B61.217776%2C%2075.172748%5D%2C%20%5B61.217684%2C%2075.172711%5D%2C%20%5B61.217603%2C%2075.17263%5D%2C%20%5B61.217524%2C%2075.172518%5D%2C%20%5B61.217461%2C%2075.17239%5D%2C%20%5B61.217421%2C%2075.172233%5D%2C%20%5B61.217386%2C%2075.17207%5D%2C%20%5B61.217346%2C%2075.171911%5D%2C%20%5B61.217298%2C%2075.171755%5D%2C%20%5B61.217256%2C%2075.171595%5D%2C%20%5B61.217201%2C%2075.171381%5D%2C%20%5B61.217138%2C%2075.171196%5D%2C%20%5B61.217099%2C%2075.171035%5D%2C%20%5B61.217058%2C%2075.170855%5D%2C%20%5B61.217025%2C%2075.170666%5D%2C%20%5B61.216978%2C%2075.170486%5D%2C%20%5B61.216926%2C%2075.170303%5D%2C%20%5B61.21688%2C%2075.170123%5D%2C%20%5B61.216829%2C%2075.169935%5D%2C%20%5B61.216776%2C%2075.169748%5D%2C%20%5B61.216728%2C%2075.169553%5D%2C%20%5B61.216676%2C%2075.169351%5D%2C%20%5B61.216626%2C%2075.169158%5D%2C%20%5B61.216576%2C%2075.168965%5D%2C%20%5B61.21652%2C%2075.168771%5D%2C%20%5B61.216463%2C%2075.168578%5D%2C%20%5B61.216418%2C%2075.168394%5D%2C%20%5B61.216376%2C%2075.168214%5D%2C%20%5B61.21633%2C%2075.16803%5D%2C%20%5B61.216285%2C%2075.167843%5D%2C%20%5B61.216246%2C%2075.167661%5D%2C%20%5B61.216199%2C%2075.167485%5D%2C%20%5B61.216153%2C%2075.167301%5D%2C%20%5B61.216103%2C%2075.167113%5D%2C%20%5B61.216053%2C%2075.166926%5D%2C%20%5B61.216003%2C%2075.166723%5D%2C%20%5B61.215956%2C%2075.16652%5D%2C%20%5B61.2159%2C%2075.166321%5D%2C%20%5B61.215845%2C%2075.16612%5D%2C%20%5B61.215793%2C%2075.16592%5D%2C%20%5B61.215736%2C%2075.16572%5D%2C%20%5B61.215675%2C%2075.165523%5D%2C%20%5B61.215614%2C%2075.165328%5D%2C%20%5B61.215546%2C%2075.16513%5D%2C%20%5B61.215491%2C%2075.164933%5D%2C%20%5B61.215431%2C%2075.164736%5D%2C%20%5B61.215371%2C%2075.164543%5D%2C%20%5B61.215321%2C%2075.164354%5D%2C%20%5B61.215271%2C%2075.16417%5D%2C%20%5B61.21522%2C%2075.163988%5D%2C%20%5B61.215163%2C%2075.163803%5D%2C%20%5B61.215101%2C%2075.163618%5D%2C%20%5B61.215021%2C%2075.163435%5D%2C%20%5B61.214936%2C%2075.163295%5D%2C%20%5B61.21484%2C%2075.163176%5D%2C%20%5B61.214738%2C%2075.163074%5D%2C%20%5B61.214636%2C%2075.163006%5D%2C%20%5B61.21453%2C%2075.162939%5D%2C%20%5B61.214403%2C%2075.16288%5D%2C%20%5B61.214288%2C%2075.162833%5D%2C%20%5B61.214168%2C%2075.162786%5D%2C%20%5B61.214031%2C%2075.162748%5D%2C%20%5B61.213913%2C%2075.162716%5D%2C%20%5B61.213798%2C%2075.162688%5D%2C%20%5B61.213686%2C%2075.162661%5D%2C%20%5B61.213578%2C%2075.162623%5D%2C%20%5B61.213466%2C%2075.162579%5D%2C%20%5B61.213359%2C%2075.162546%5D%2C%20%5B61.213251%2C%2075.162506%5D%2C%20%5B61.21315%2C%2075.162465%5D%2C%20%5B61.213048%2C%2075.16243%5D%2C%20%5B61.212953%2C%2075.162381%5D%2C%20%5B61.212846%2C%2075.162335%5D%2C%20%5B61.212778%2C%2075.162181%5D%2C%20%5B61.212776%2C%2075.161986%5D%2C%20%5B61.212793%2C%2075.161788%5D%2C%20%5B61.212801%2C%2075.161589%5D%2C%20%5B61.212813%2C%2075.161398%5D%2C%20%5B61.212826%2C%2075.16121%5D%2C%20%5B61.212841%2C%2075.161023%5D%2C%20%5B61.212856%2C%2075.16085%5D%2C%20%5B61.212873%2C%2075.160683%5D%2C%20%5B61.21289%2C%2075.16044%5D%2C%20%5B61.212908%2C%2075.160268%5D%2C%20%5B61.21293%2C%2075.1601%5D%2C%20%5B61.21295%2C%2075.159861%5D%2C%20%5B61.212973%2C%2075.159633%5D%2C%20%5B61.212988%2C%2075.159433%5D%2C%20%5B61.213013%2C%2075.15927%5D%2C%20%5B61.213058%2C%2075.159111%5D%2C%20%5B61.213101%2C%2075.158941%5D%2C%20%5B61.213138%2C%2075.158786%5D%2C%20%5B61.21314%2C%2075.158613%5D%2C%20%5B61.213158%2C%2075.15844%5D%2C%20%5B61.213143%2C%2075.158625%5D%2C%20%5B61.213088%2C%2075.158785%5D%2C%20%5B61.213043%2C%2075.158955%5D%2C%20%5B61.212995%2C%2075.159108%5D%2C%20%5B61.21296%2C%2075.159295%5D%2C%20%5B61.212935%2C%2075.159486%5D%2C%20%5B61.212918%2C%2075.159664%5D%2C%20%5B61.212893%2C%2075.159855%5D%2C%20%5B61.21287%2C%2075.160036%5D%2C%20%5B61.212843%2C%2075.160261%5D%2C%20%5B61.212826%2C%2075.16045%5D%2C%20%5B61.212811%2C%2075.160631%5D%2C%20%5B61.212798%2C%2075.160818%5D%2C%20%5B61.212783%2C%2075.16099%5D%2C%20%5B61.212765%2C%2075.161235%5D%2C%20%5B61.212743%2C%2075.161475%5D%2C%20%5B61.212726%2C%2075.161718%5D%2C%20%5B61.212716%2C%2075.161951%5D%2C%20%5B61.212723%2C%2075.162138%5D%2C%20%5B61.212745%2C%2075.162325%5D%2C%20%5B61.212804%2C%2075.162468%5D%2C%20%5B61.212886%2C%2075.16246%5D%2C%20%5B61.212971%2C%2075.162486%5D%2C%20%5B61.213073%2C%2075.162523%5D%2C%20%5B61.213186%2C%2075.162565%5D%2C%20%5B61.213298%2C%2075.162601%5D%2C%20%5B61.213416%2C%2075.162635%5D%2C%20%5B61.213501%2C%2075.162661%5D%2C%20%5B61.213588%2C%2075.162686%5D%2C%20%5B61.213668%2C%2075.162714%5D%2C%20%5B61.21375%2C%2075.162745%5D%2C%20%5B61.213838%2C%2075.162771%5D%2C%20%5B61.213925%2C%2075.162796%5D%2C%20%5B61.214018%2C%2075.162828%5D%2C%20%5B61.21411%2C%2075.162863%5D%2C%20%5B61.214201%2C%2075.162898%5D%2C%20%5B61.2143%2C%2075.162935%5D%2C%20%5B61.214398%2C%2075.162971%5D%2C%20%5B61.214495%2C%2075.163005%5D%2C%20%5B61.214586%2C%2075.163048%5D%2C%20%5B61.214676%2C%2075.163108%5D%2C%20%5B61.214763%2C%2075.163178%5D%2C%20%5B61.214855%2C%2075.16327%5D%2C%20%5B61.214938%2C%2075.163395%5D%2C%20%5B61.215008%2C%2075.163535%5D%2C%20%5B61.215053%2C%2075.163701%5D%2C%20%5B61.215103%2C%2075.163871%5D%2C%20%5B61.215153%2C%2075.16405%5D%2C%20%5B61.215203%2C%2075.164234%5D%2C%20%5B61.215251%2C%2075.164418%5D%2C%20%5B61.215296%2C%2075.164608%5D%2C%20%5B61.215346%2C%2075.164796%5D%2C%20%5B61.2154%2C%2075.16499%5D%2C%20%5B61.215455%2C%2075.165195%5D%2C%20%5B61.215508%2C%2075.165403%5D%2C%20%5B61.215561%2C%2075.165605%5D%2C%20%5B61.215611%2C%2075.16581%5D%2C%20%5B61.215663%2C%2075.166005%5D%2C%20%5B61.215715%2C%2075.166201%5D%2C%20%5B61.215766%2C%2075.166401%5D%2C%20%5B61.21582%2C%2075.166598%5D%2C%20%5B61.215873%2C%2075.16679%5D%2C%20%5B61.215925%2C%2075.166988%5D%2C%20%5B61.215976%2C%2075.167185%5D%2C%20%5B61.216031%2C%2075.167376%5D%2C%20%5B61.216078%2C%2075.16758%5D%2C%20%5B61.216116%2C%2075.167778%5D%2C%20%5B61.216166%2C%2075.167975%5D%2C%20%5B61.216228%2C%2075.168178%5D%2C%20%5B61.21628%2C%2075.168373%5D%2C%20%5B61.216333%2C%2075.168565%5D%2C%20%5B61.216383%2C%2075.168763%5D%2C%20%5B61.216431%2C%2075.16896%5D%2C%20%5B61.216485%2C%2075.169161%5D%2C%20%5B61.216536%2C%2075.169356%5D%2C%20%5B61.216591%2C%2075.169545%5D%2C%20%5B61.216648%2C%2075.169736%5D%2C%20%5B61.216703%2C%2075.169913%5D%2C%20%5B61.216753%2C%2075.170085%5D%2C%20%5B61.216805%2C%2075.170278%5D%2C%20%5B61.216853%2C%2075.17047%5D%2C%20%5B61.216908%2C%2075.170661%5D%2C%20%5B61.216956%2C%2075.170848%5D%2C%20%5B61.217%2C%2075.171038%5D%2C%20%5B61.217041%2C%2075.171203%5D%2C%20%5B61.217101%2C%2075.171413%5D%2C%20%5B61.21716%2C%2075.171615%5D%2C%20%5B61.217213%2C%2075.171833%5D%2C%20%5B61.217273%2C%2075.172038%5D%2C%20%5B61.217314%2C%2075.172186%5D%2C%20%5B61.217365%2C%2075.17235%5D%2C%20%5B61.21741%2C%2075.172516%5D%2C%20%5B61.217478%2C%2075.172708%5D%2C%20%5B61.217549%2C%2075.172793%5D%2C%20%5B61.217631%2C%2075.172855%5D%2C%20%5B61.217715%2C%2075.172868%5D%2C%20%5B61.217791%2C%2075.172801%5D%2C%20%5B61.217864%2C%2075.172725%5D%2C%20%5B61.217956%2C%2075.172606%5D%2C%20%5B61.218055%2C%2075.172481%5D%2C%20%5B61.218156%2C%2075.172348%5D%2C%20%5B61.218223%2C%2075.17225%5D%2C%20%5B61.218321%2C%2075.172108%5D%2C%20%5B61.2184%2C%2075.172025%5D%2C%20%5B61.218499%2C%2075.171898%5D%2C%20%5B61.218591%2C%2075.171773%5D%2C%20%5B61.218673%2C%2075.171643%5D%2C%20%5B61.218761%2C%2075.171506%5D%2C%20%5B61.218855%2C%2075.171375%5D%2C%20%5B61.218948%2C%2075.171233%5D%2C%20%5B61.219033%2C%2075.171098%5D%2C%20%5B61.219121%2C%2075.170956%5D%2C%20%5B61.219206%2C%2075.170813%5D%2C%20%5B61.219301%2C%2075.170678%5D%2C%20%5B61.21939%2C%2075.17052%5D%2C%20%5B61.219455%2C%2075.170408%5D%2C%20%5B61.219518%2C%2075.170298%5D%2C%20%5B61.219586%2C%2075.170193%5D%2C%20%5B61.219661%2C%2075.170093%5D%2C%20%5B61.219728%2C%2075.169978%5D%2C%20%5B61.219803%2C%2075.169861%5D%2C%20%5B61.219873%2C%2075.169746%5D%2C%20%5B61.219943%2C%2075.169636%5D%2C%20%5B61.220015%2C%2075.169519%5D%2C%20%5B61.220081%2C%2075.169396%5D%2C%20%5B61.220155%2C%2075.169283%5D%2C%20%5B61.220226%2C%2075.169171%5D%2C%20%5B61.220295%2C%2075.169061%5D%2C%20%5B61.220373%2C%2075.168956%5D%2C%20%5B61.220454%2C%2075.168853%5D%2C%20%5B61.220526%2C%2075.168765%5D%2C%20%5B61.2206%2C%2075.168663%5D%2C%20%5B61.220671%2C%2075.168565%5D%2C%20%5B61.220745%2C%2075.168476%5D%2C%20%5B61.220813%2C%2075.168376%5D%2C%20%5B61.220886%2C%2075.168281%5D%2C%20%5B61.220986%2C%2075.168134%5D%2C%20%5B61.221054%2C%2075.168028%5D%2C%20%5B61.221125%2C%2075.167928%5D%2C%20%5B61.221193%2C%2075.167825%5D%2C%20%5B61.22126%2C%2075.167719%5D%2C%20%5B61.221326%2C%2075.167618%5D%2C%20%5B61.221393%2C%2075.167516%5D%2C%20%5B61.221461%2C%2075.16741%5D%2C%20%5B61.22153%2C%2075.167298%5D%2C%20%5B61.221626%2C%2075.16715%5D%2C%20%5B61.221721%2C%2075.166996%5D%2C%20%5B61.221815%2C%2075.16686%5D%2C%20%5B61.221913%2C%2075.166715%5D%2C%20%5B61.221981%2C%2075.16662%5D%2C%20%5B61.22205%2C%2075.166514%5D%2C%20%5B61.222123%2C%2075.166413%5D%2C%20%5B61.222193%2C%2075.166303%5D%2C%20%5B61.222265%2C%2075.166193%5D%2C%20%5B61.222336%2C%2075.166103%5D%2C%20%5B61.222413%2C%2075.166013%5D%2C%20%5B61.222511%2C%2075.165868%5D%2C%20%5B61.22258%2C%2075.165763%5D%2C%20%5B61.222653%2C%2075.165663%5D%2C%20%5B61.222723%2C%2075.165565%5D%2C%20%5B61.222795%2C%2075.165456%5D%2C%20%5B61.222863%2C%2075.165351%5D%2C%20%5B61.222938%2C%2075.165256%5D%2C%20%5B61.223008%2C%2075.165153%5D%2C%20%5B61.223076%2C%2075.165051%5D%2C%20%5B61.223146%2C%2075.16495%5D%2C%20%5B61.223214%2C%2075.164846%5D%2C%20%5B61.22329%2C%2075.16475%5D%2C%20%5B61.223363%2C%2075.164641%5D%2C%20%5B61.223436%2C%2075.16453%5D%2C%20%5B61.22351%2C%2075.16442%5D%2C%20%5B61.223578%2C%2075.164311%5D%2C%20%5B61.223646%2C%2075.164216%5D%2C%20%5B61.223741%2C%2075.164063%5D%2C%20%5B61.223808%2C%2075.163963%5D%2C%20%5B61.223881%2C%2075.163866%5D%2C%20%5B61.223955%2C%2075.163761%5D%2C%20%5B61.224026%2C%2075.163661%5D%2C%20%5B61.224093%2C%2075.163565%5D%2C%20%5B61.224158%2C%2075.163461%5D%2C%20%5B61.224253%2C%2075.163315%5D%2C%20%5B61.224351%2C%2075.163181%5D%2C%20%5B61.224418%2C%2075.163083%5D%2C%20%5B61.224503%2C%2075.162936%5D%2C%20%5B61.224596%2C%2075.162793%5D%2C%20%5B61.224685%2C%2075.162703%5D%2C%20%5B61.224773%2C%2075.162656%5D%2C%20%5B61.224856%2C%2075.162796%5D%2C%20%5B61.224905%2C%2075.162996%5D%2C%20%5B61.224955%2C%2075.16315%5D%2C%20%5B61.225006%2C%2075.16331%5D%2C%20%5B61.22506%2C%2075.163481%5D%2C%20%5B61.225111%2C%2075.163648%5D%2C%20%5B61.225156%2C%2075.16383%5D%2C%20%5B61.225191%2C%2075.163998%5D%2C%20%5B61.225268%2C%2075.164135%5D%2C%20%5B61.225333%2C%2075.164238%5D%2C%20%5B61.225408%2C%2075.164373%5D%2C%20%5B61.225458%2C%2075.164549%5D%2C%20%5B61.22551%2C%2075.164733%5D%2C%20%5B61.225543%2C%2075.164913%5D%2C%20%5B61.225591%2C%2075.165083%5D%2C%20%5B61.225631%2C%2075.165233%5D%2C%20%5B61.225685%2C%2075.165406%5D%2C%20%5B61.225743%2C%2075.165588%5D%2C%20%5B61.225796%2C%2075.165716%5D%2C%20%5B61.22588%2C%2075.165813%5D%2C%20%5B61.225971%2C%2075.16592%5D%2C%20%5B61.22605%2C%2075.166028%5D%2C%20%5B61.226115%2C%2075.166165%5D%2C%20%5B61.226168%2C%2075.166316%5D%2C%20%5B61.226201%2C%2075.166473%5D%2C%20%5B61.226223%2C%2075.166643%5D%2C%20%5B61.226291%2C%2075.166753%5D%2C%20%5B61.22636%2C%2075.166845%5D%2C%20%5B61.226405%2C%2075.167006%5D%2C%20%5B61.226448%2C%2075.167158%5D%2C%20%5B61.226403%2C%2075.167011%5D%2C%20%5B61.226348%2C%2075.166876%5D%2C%20%5B61.226283%2C%2075.166771%5D%2C%20%5B61.22624%2C%2075.166601%5D%2C%20%5B61.226208%2C%2075.166446%5D%2C%20%5B61.226189%2C%2075.166276%5D%2C%20%5B61.22614%2C%2075.166113%5D%2C%20%5B61.226061%2C%2075.165981%5D%2C%20%5B61.22599%2C%2075.165886%5D%2C%20%5B61.225906%2C%2075.16579%5D%2C%20%5B61.225828%2C%2075.165728%5D%2C%20%5B61.225771%2C%2075.165598%5D%2C%20%5B61.22572%2C%2075.165453%5D%2C%20%5B61.225655%2C%2075.16531%5D%2C%20%5B61.2256%2C%2075.165151%5D%2C%20%5B61.225555%2C%2075.16499%5D%2C%20%5B61.225505%2C%2075.164828%5D%2C%20%5B61.22546%2C%2075.164626%5D%2C%20%5B61.225423%2C%2075.164476%5D%2C%20%5B61.225345%2C%2075.164348%5D%2C%20%5B61.225271%2C%2075.164228%5D%2C%20%5B61.225201%2C%2075.164055%5D%2C%20%5B61.225171%2C%2075.163881%5D%2C%20%5B61.225133%2C%2075.163706%5D%2C%20%5B61.225076%2C%2075.163536%5D%2C%20%5B61.225023%2C%2075.163366%5D%2C%20%5B61.224966%2C%2075.163196%5D%2C%20%5B61.224926%2C%2075.16299%5D%2C%20%5B61.22488%2C%2075.162826%5D%2C%20%5B61.224868%2C%2075.162626%5D%2C%20%5B61.224893%2C%2075.162466%5D%2C%20%5B61.224953%2C%2075.162331%5D%2C%20%5B61.225033%2C%2075.162205%5D%2C%20%5B61.225123%2C%2075.162063%5D%2C%20%5B61.225216%2C%2075.161926%5D%2C%20%5B61.225313%2C%2075.16178%5D%2C%20%5B61.225411%2C%2075.161648%5D%2C%20%5B61.225503%2C%2075.161499%5D%2C%20%5B61.225604%2C%2075.161364%5D%2C%20%5B61.225698%2C%2075.161211%5D%2C%20%5B61.225798%2C%2075.161068%5D%2C%20%5B61.225893%2C%2075.160918%5D%2C%20%5B61.225956%2C%2075.160813%5D%2C%20%5B61.226025%2C%2075.160713%5D%2C%20%5B61.226118%2C%2075.160568%5D%2C%20%5B61.226213%2C%2075.160426%5D%2C%20%5B61.226283%2C%2075.160328%5D%2C%20%5B61.226353%2C%2075.160233%5D%2C%20%5B61.226421%2C%2075.16013%5D%2C%20%5B61.226521%2C%2075.159988%5D%2C%20%5B61.226588%2C%2075.159889%5D%2C%20%5B61.226688%2C%2075.159743%5D%2C%20%5B61.226753%2C%2075.159638%5D%2C%20%5B61.22683%2C%2075.159513%5D%2C%20%5B61.226903%2C%2075.159398%5D%2C%20%5B61.22697%2C%2075.159285%5D%2C%20%5B61.227045%2C%2075.159186%5D%2C%20%5B61.227116%2C%2075.159068%5D%2C%20%5B61.227195%2C%2075.158991%5D%2C%20%5B61.227271%2C%2075.15887%5D%2C%20%5B61.22734%2C%2075.158758%5D%2C%20%5B61.227416%2C%2075.158651%5D%2C%20%5B61.22749%2C%2075.158539%5D%2C%20%5B61.227561%2C%2075.158426%5D%2C%20%5B61.227636%2C%2075.158313%5D%2C%20%5B61.227708%2C%2075.158205%5D%2C%20%5B61.227773%2C%2075.158093%5D%2C%20%5B61.227843%2C%2075.157986%5D%2C%20%5B61.22791%2C%2075.157886%5D%2C%20%5B61.227988%2C%2075.15778%5D%2C%20%5B61.228065%2C%2075.15767%5D%2C%20%5B61.228133%2C%2075.157556%5D%2C%20%5B61.228204%2C%2075.157436%5D%2C%20%5B61.22828%2C%2075.157326%5D%2C%20%5B61.228354%2C%2075.157216%5D%2C%20%5B61.228429%2C%2075.157105%5D%2C%20%5B61.228508%2C%2075.156988%5D%2C%20%5B61.228581%2C%2075.156885%5D%2C%20%5B61.228655%2C%2075.156778%5D%2C%20%5B61.228733%2C%2075.15667%5D%2C%20%5B61.228806%2C%2075.156566%5D%2C%20%5B61.228878%2C%2075.156465%5D%2C%20%5B61.228948%2C%2075.156363%5D%2C%20%5B61.229018%2C%2075.156261%5D%2C%20%5B61.229091%2C%2075.156171%5D%2C%20%5B61.229163%2C%2075.156068%5D%2C%20%5B61.229231%2C%2075.155961%5D%2C%20%5B61.229299%2C%2075.155855%5D%2C%20%5B61.229378%2C%2075.155753%5D%2C%20%5B61.22945%2C%2075.155638%5D%2C%20%5B61.22952%2C%2075.15553%5D%2C%20%5B61.22962%2C%2075.155378%5D%2C%20%5B61.229688%2C%2075.155266%5D%2C%20%5B61.229758%2C%2075.155168%5D%2C%20%5B61.229826%2C%2075.155063%5D%2C%20%5B61.229901%2C%2075.154958%5D%2C%20%5B61.229973%2C%2075.15485%5D%2C%20%5B61.230051%2C%2075.154745%5D%2C%20%5B61.230128%2C%2075.15464%5D%2C%20%5B61.230198%2C%2075.154536%5D%2C%20%5B61.230268%2C%2075.15443%5D%2C%20%5B61.230339%2C%2075.154321%5D%2C%20%5B61.230411%2C%2075.154216%5D%2C%20%5B61.230481%2C%2075.154111%5D%2C%20%5B61.230575%2C%2075.153946%5D%2C%20%5B61.230643%2C%2075.15384%5D%2C%20%5B61.230713%2C%2075.153735%5D%2C%20%5B61.230781%2C%2075.153638%5D%2C%20%5B61.230879%2C%2075.153495%5D%2C%20%5B61.230948%2C%2075.153399%5D%2C%20%5B61.231018%2C%2075.153298%5D%2C%20%5B61.231086%2C%2075.153196%5D%2C%20%5B61.23116%2C%2075.153091%5D%2C%20%5B61.231226%2C%2075.152993%5D%2C%20%5B61.231295%2C%2075.152898%5D%2C%20%5B61.231366%2C%2075.152798%5D%2C%20%5B61.23143%2C%2075.152691%5D%2C%20%5B61.231526%2C%2075.152541%5D%2C%20%5B61.231595%2C%2075.152428%5D%2C%20%5B61.231673%2C%2075.152325%5D%2C%20%5B61.231755%2C%2075.152228%5D%2C%20%5B61.231823%2C%2075.152125%5D%2C%20%5B61.231911%2C%2075.152049%5D%2C%20%5B61.231989%2C%2075.15193%5D%2C%20%5B61.232066%2C%2075.151763%5D%2C%20%5B61.232146%2C%2075.151631%5D%2C%20%5B61.232228%2C%2075.151511%5D%2C%20%5B61.232311%2C%2075.151395%5D%2C%20%5B61.232393%2C%2075.15129%5D%2C%20%5B61.232476%2C%2075.151173%5D%2C%20%5B61.232558%2C%2075.15106%5D%2C%20%5B61.232638%2C%2075.150953%5D%2C%20%5B61.232723%2C%2075.150855%5D%2C%20%5B61.232801%2C%2075.150763%5D%2C%20%5B61.232876%2C%2075.150675%5D%2C%20%5B61.232946%2C%2075.15059%5D%2C%20%5B61.233018%2C%2075.150508%5D%2C%20%5B61.233093%2C%2075.150426%5D%2C%20%5B61.233173%2C%2075.15034%5D%2C%20%5B61.233256%2C%2075.15025%5D%2C%20%5B61.233333%2C%2075.150163%5D%2C%20%5B61.233413%2C%2075.150088%5D%2C%20%5B61.233515%2C%2075.14997%5D%2C%20%5B61.233625%2C%2075.149856%5D%2C%20%5B61.233733%2C%2075.149738%5D%2C%20%5B61.233805%2C%2075.149656%5D%2C%20%5B61.233881%2C%2075.149578%5D%2C%20%5B61.233953%2C%2075.1495%5D%2C%20%5B61.234026%2C%2075.149416%5D%2C%20%5B61.234103%2C%2075.149345%5D%2C%20%5B61.234176%2C%2075.149273%5D%2C%20%5B61.234253%2C%2075.14921%5D%2C%20%5B61.234331%2C%2075.149141%5D%2C%20%5B61.234416%2C%2075.149075%5D%2C%20%5B61.234498%2C%2075.149008%5D%2C%20%5B61.234574%2C%2075.148938%5D%2C%20%5B61.234651%2C%2075.14887%5D%2C%20%5B61.234726%2C%2075.148806%5D%2C%20%5B61.234836%2C%2075.14872%5D%2C%20%5B61.234915%2C%2075.148656%5D%2C%20%5B61.235026%2C%2075.148568%5D%2C%20%5B61.235106%2C%2075.148518%5D%2C%20%5B61.235223%2C%2075.148448%5D%2C%20%5B61.235338%2C%2075.14837%5D%2C%20%5B61.235453%2C%2075.148298%5D%2C%20%5B61.235531%2C%2075.148251%5D%2C%20%5B61.235643%2C%2075.148168%5D%2C%20%5B61.235725%2C%2075.148108%5D%2C%20%5B61.235808%2C%2075.148055%5D%2C%20%5B61.235893%2C%2075.148008%5D%2C%20%5B61.235978%2C%2075.147961%5D%2C%20%5B61.236059%2C%2075.147918%5D%2C%20%5B61.236143%2C%2075.147873%5D%2C%20%5B61.236226%2C%2075.147826%5D%2C%20%5B61.236311%2C%2075.147776%5D%2C%20%5B61.236396%2C%2075.14773%5D%2C%20%5B61.236481%2C%2075.147685%5D%2C%20%5B61.236571%2C%2075.14764%5D%2C%20%5B61.236656%2C%2075.147591%5D%2C%20%5B61.236738%2C%2075.147541%5D%2C%20%5B61.236818%2C%2075.147496%5D%2C%20%5B61.23691%2C%2075.147446%5D%2C%20%5B61.237001%2C%2075.1474%5D%2C%20%5B61.23709%2C%2075.147331%5D%2C%20%5B61.237195%2C%2075.14729%5D%2C%20%5B61.237286%2C%2075.147233%5D%2C%20%5B61.237376%2C%2075.147179%5D%2C%20%5B61.237459%2C%2075.147136%5D%2C%20%5B61.237548%2C%2075.147086%5D%2C%20%5B61.237635%2C%2075.14703%5D%2C%20%5B61.237723%2C%2075.14698%5D%2C%20%5B61.237811%2C%2075.146936%5D%2C%20%5B61.237896%2C%2075.146888%5D%2C%20%5B61.238013%2C%2075.146828%5D%2C%20%5B61.238095%2C%2075.146785%5D%2C%20%5B61.238178%2C%2075.146738%5D%2C%20%5B61.238293%2C%2075.146678%5D%2C%20%5B61.238401%2C%2075.146603%5D%2C%20%5B61.238505%2C%2075.146548%5D%2C%20%5B61.238618%2C%2075.146491%5D%2C%20%5B61.238698%2C%2075.146459%5D%2C%20%5B61.238808%2C%2075.146398%5D%2C%20%5B61.238886%2C%2075.146346%5D%2C%20%5B61.238965%2C%2075.146298%5D%2C%20%5B61.239045%2C%2075.146251%5D%2C%20%5B61.239126%2C%2075.146206%5D%2C%20%5B61.239206%2C%2075.146163%5D%2C%20%5B61.239286%2C%2075.146111%5D%2C%20%5B61.239366%2C%2075.146063%5D%2C%20%5B61.239445%2C%2075.146015%5D%2C%20%5B61.239523%2C%2075.14597%5D%2C%20%5B61.239638%2C%2075.145903%5D%2C%20%5B61.239716%2C%2075.14585%5D%2C%20%5B61.239795%2C%2075.145806%5D%2C%20%5B61.239901%2C%2075.145739%5D%2C%20%5B61.240011%2C%2075.14567%5D%2C%20%5B61.240093%2C%2075.145628%5D%2C%20%5B61.240175%2C%2075.14559%5D%2C%20%5B61.240258%2C%2075.14555%5D%2C%20%5B61.240339%2C%2075.145514%5D%2C%20%5B61.240423%2C%2075.14549%5D%2C%20%5B61.240543%2C%2075.145475%5D%2C%20%5B61.240628%2C%2075.145456%5D%2C%20%5B61.240721%2C%2075.145461%5D%2C%20%5B61.240805%2C%2075.145476%5D%2C%20%5B61.240888%2C%2075.145483%5D%2C%20%5B61.240971%2C%2075.145511%5D%2C%20%5B61.241086%2C%2075.145555%5D%2C%20%5B61.241168%2C%2075.145586%5D%2C%20%5B61.241281%2C%2075.145641%5D%2C%20%5B61.24139%2C%2075.14573%5D%2C%20%5B61.241488%2C%2075.145823%5D%2C%20%5B61.241593%2C%2075.145926%5D%2C%20%5B61.24169%2C%2075.146045%5D%2C%20%5B61.241776%2C%2075.146185%5D%2C%20%5B61.24184%2C%2075.14629%5D%2C%20%5B61.241926%2C%2075.146435%5D%2C%20%5B61.242003%2C%2075.146546%5D%2C%20%5B61.242073%2C%2075.146653%5D%2C%20%5B61.242148%2C%2075.14676%5D%2C%20%5B61.242215%2C%2075.146873%5D%2C%20%5B61.242301%2C%2075.146995%5D%2C%20%5B61.242373%2C%2075.147118%5D%2C%20%5B61.242446%2C%2075.147236%5D%2C%20%5B61.242518%2C%2075.147346%5D%2C%20%5B61.24259%2C%2075.147466%5D%2C%20%5B61.242658%2C%2075.147571%5D%2C%20%5B61.242726%2C%2075.147676%5D%2C%20%5B61.242798%2C%2075.147776%5D%2C%20%5B61.242868%2C%2075.147878%5D%2C%20%5B61.24294%2C%2075.14801%5D%2C%20%5B61.243008%2C%2075.14812%5D%2C%20%5B61.243083%2C%2075.14824%5D%2C%20%5B61.24316%2C%2075.148358%5D%2C%20%5B61.243235%2C%2075.148466%5D%2C%20%5B61.243306%2C%2075.148575%5D%2C%20%5B61.243375%2C%2075.148684%5D%2C%20%5B61.243446%2C%2075.148798%5D%2C%20%5B61.243521%2C%2075.148909%5D%2C%20%5B61.243598%2C%2075.149035%5D%2C%20%5B61.243673%2C%2075.149155%5D%2C%20%5B61.243745%2C%2075.14928%5D%2C%20%5B61.243815%2C%2075.149398%5D%2C%20%5B61.243889%2C%2075.149508%5D%2C%20%5B61.243961%2C%2075.149629%5D%2C%20%5B61.244038%2C%2075.149738%5D%2C%20%5B61.244116%2C%2075.149853%5D%2C%20%5B61.244185%2C%2075.149976%5D%2C%20%5B61.244255%2C%2075.150096%5D%2C%20%5B61.244326%2C%2075.150216%5D%2C%20%5B61.244395%2C%2075.150323%5D%2C%20%5B61.244458%2C%2075.15043%5D%2C%20%5B61.244526%2C%2075.150548%5D%2C%20%5B61.244598%2C%2075.150666%5D%2C%20%5B61.244676%2C%2075.150791%5D%2C%20%5B61.244753%2C%2075.150916%5D%2C%20%5B61.244826%2C%2075.151036%5D%2C%20%5B61.2449%2C%2075.151153%5D%2C%20%5B61.244969%2C%2075.151278%5D%2C%20%5B61.245046%2C%2075.151401%5D%2C%20%5B61.24512%2C%2075.151516%5D%2C%20%5B61.245196%2C%2075.151636%5D%2C%20%5B61.245271%2C%2075.151753%5D%2C%20%5B61.245349%2C%2075.151869%5D%2C%20%5B61.245428%2C%2075.151988%5D%2C%20%5B61.245505%2C%2075.152101%5D%2C%20%5B61.245573%2C%2075.152215%5D%2C%20%5B61.24564%2C%2075.152316%5D%2C%20%5B61.245706%2C%2075.152423%5D%2C%20%5B61.245773%2C%2075.152538%5D%2C%20%5B61.245844%2C%2075.152655%5D%2C%20%5B61.24594%2C%2075.152814%5D%2C%20%5B61.246011%2C%2075.152935%5D%2C%20%5B61.24608%2C%2075.153043%5D%2C%20%5B61.246176%2C%2075.153193%5D%2C%20%5B61.24625%2C%2075.153301%5D%2C%20%5B61.246321%2C%2075.153411%5D%2C%20%5B61.246385%2C%2075.153518%5D%2C%20%5B61.246481%2C%2075.153658%5D%2C%20%5B61.24656%2C%2075.153771%5D%2C%20%5B61.24665%2C%2075.153915%5D%2C%20%5B61.246746%2C%2075.154065%5D%2C%20%5B61.246813%2C%2075.154173%5D%2C%20%5B61.246908%2C%2075.154333%5D%2C%20%5B61.246973%2C%2075.15446%5D%2C%20%5B61.247041%2C%2075.154568%5D%2C%20%5B61.247113%2C%2075.154688%5D%2C%20%5B61.247183%2C%2075.154803%5D%2C%20%5B61.247256%2C%2075.154923%5D%2C%20%5B61.247331%2C%2075.155043%5D%2C%20%5B61.247408%2C%2075.155151%5D%2C%20%5B61.247508%2C%2075.155306%5D%2C%20%5B61.247578%2C%2075.155421%5D%2C%20%5B61.247646%2C%2075.15554%5D%2C%20%5B61.24773%2C%2075.155683%5D%2C%20%5B61.247796%2C%2075.155783%5D%2C%20%5B61.247866%2C%2075.155885%5D%2C%20%5B61.247935%2C%2075.155993%5D%2C%20%5B61.248%2C%2075.1561%5D%2C%20%5B61.248091%2C%2075.15625%5D%2C%20%5B61.248178%2C%2075.156396%5D%2C%20%5B61.248261%2C%2075.156536%5D%2C%20%5B61.248336%2C%2075.156675%5D%2C%20%5B61.24842%2C%2075.156835%5D%2C%20%5B61.248513%2C%2075.156986%5D%2C%20%5B61.248578%2C%2075.157095%5D%2C%20%5B61.248673%2C%2075.157238%5D%2C%20%5B61.248758%2C%2075.15736%5D%2C%20%5B61.248836%2C%2075.157455%5D%2C%20%5B61.24892%2C%2075.157546%5D%2C%20%5B61.248998%2C%2075.157643%5D%2C%20%5B61.249068%2C%2075.157735%5D%2C%20%5B61.24917%2C%2075.15785%5D%2C%20%5B61.249269%2C%2075.157951%5D%2C%20%5B61.249361%2C%2075.1581%5D%2C%20%5B61.249434%2C%2075.158263%5D%2C%20%5B61.249521%2C%2075.158411%5D%2C%20%5B61.249608%2C%2075.158538%5D%2C%20%5B61.249678%2C%2075.158655%5D%2C%20%5B61.249756%2C%2075.158764%5D%2C%20%5B61.249824%2C%2075.158861%5D%2C%20%5B61.249888%2C%2075.159006%5D%2C%20%5B61.249956%2C%2075.159186%5D%2C%20%5B61.250021%2C%2075.159345%5D%2C%20%5B61.250083%2C%2075.159511%5D%2C%20%5B61.250143%2C%2075.159656%5D%2C%20%5B61.25021%2C%2075.159795%5D%2C%20%5B61.250273%2C%2075.159925%5D%2C%20%5B61.250323%2C%2075.160128%5D%2C%20%5B61.250361%2C%2075.160281%5D%2C%20%5B61.250336%2C%2075.1605%5D%2C%20%5B61.250288%2C%2075.160701%5D%2C%20%5B61.250226%2C%2075.160871%5D%2C%20%5B61.250138%2C%2075.161041%5D%2C%20%5B61.250071%2C%2075.161168%5D%2C%20%5B61.250008%2C%2075.161301%5D%2C%20%5B61.249943%2C%2075.161433%5D%2C%20%5B61.249876%2C%2075.161565%5D%2C%20%5B61.249815%2C%2075.16169%5D%2C%20%5B61.249748%2C%2075.161808%5D%2C%20%5B61.249688%2C%2075.161933%5D%2C%20%5B61.249628%2C%2075.16206%5D%2C%20%5B61.249563%2C%2075.162186%5D%2C%20%5B61.249478%2C%2075.162361%5D%2C%20%5B61.249416%2C%2075.162473%5D%2C%20%5B61.249358%2C%2075.162645%5D%2C%20%5B61.249325%2C%2075.162836%5D%2C%20%5B61.249275%2C%2075.163026%5D%2C%20%5B61.249208%2C%2075.163198%5D%2C%20%5B61.249146%2C%2075.163366%5D%2C%20%5B61.249081%2C%2075.163536%5D%2C%20%5B61.24902%2C%2075.16369%5D%2C%20%5B61.248958%2C%2075.16386%5D%2C%20%5B61.248909%2C%2075.164046%5D%2C%20%5B61.248853%2C%2075.164258%5D%2C%20%5B61.248798%2C%2075.164465%5D%2C%20%5B61.248771%2C%2075.164639%5D%2C%20%5B61.24874%2C%2075.164843%5D%2C%20%5B61.248756%2C%2075.16501%5D%2C%20%5B61.248819%2C%2075.165123%5D%2C%20%5B61.248893%2C%2075.165246%5D%2C%20%5B61.248954%2C%2075.165403%5D%2C%20%5B61.249014%2C%2075.165523%5D%2C%20%5B61.24908%2C%2075.165659%5D%2C%20%5B61.249141%2C%2075.165793%5D%2C%20%5B61.249211%2C%2075.165951%5D%2C%20%5B61.249281%2C%2075.166088%5D%2C%20%5B61.249344%2C%2075.166253%5D%2C%20%5B61.249416%2C%2075.16639%5D%2C%20%5B61.24949%2C%2075.166501%5D%2C%20%5B61.249556%2C%2075.1666%5D%2C%20%5B61.249655%2C%2075.166514%5D%2C%20%5B61.249718%2C%2075.166368%5D%2C%20%5B61.249803%2C%2075.166223%5D%2C%20%5B61.249878%2C%2075.166061%5D%2C%20%5B61.249948%2C%2075.165913%5D%2C%20%5B61.250036%2C%2075.165761%5D%2C%20%5B61.25012%2C%2075.1656%5D%2C%20%5B61.250176%2C%2075.165475%5D%2C%20%5B61.250268%2C%2075.165338%5D%2C%20%5B61.250319%2C%2075.165203%5D%5D%2C%0A%20%20%20%20%20%20%20%20%20%20%20%20%20%20%20%20%20%20%20%20%7B%0A%20%20%22bubblingMouseEvents%22%3A%20true%2C%0A%20%20%22color%22%3A%20%22red%22%2C%0A%20%20%22dashArray%22%3A%20null%2C%0A%20%20%22dashOffset%22%3A%20null%2C%0A%20%20%22fill%22%3A%20false%2C%0A%20%20%22fillColor%22%3A%20%22red%22%2C%0A%20%20%22fillOpacity%22%3A%200.2%2C%0A%20%20%22fillRule%22%3A%20%22evenodd%22%2C%0A%20%20%22lineCap%22%3A%20%22round%22%2C%0A%20%20%22lineJoin%22%3A%20%22round%22%2C%0A%20%20%22noClip%22%3A%20false%2C%0A%20%20%22opacity%22%3A%200.5%2C%0A%20%20%22smoothFactor%22%3A%201.0%2C%0A%20%20%22stroke%22%3A%20true%2C%0A%20%20%22weight%22%3A%204.5%0A%7D%0A%20%20%20%20%20%20%20%20%20%20%20%20%20%20%20%20%20%20%20%20%29%0A%20%20%20%20%20%20%20%20%20%20%20%20%20%20%20%20%20%20%20%20.addTo%28map_8cbb4dba713042679e2c919af5638956%29%3B%0A%20%20%20%20%20%20%20%20%20%20%20%20%0A%20%20%20%20%0A%20%20%20%20%20%20%20%20%20%20%20%20%20%20%20%20var%20poly_line_7d4eaa08cd464294b27a1f8204bc95f1%20%3D%20L.polyline%28%0A%20%20%20%20%20%20%20%20%20%20%20%20%20%20%20%20%20%20%20%20%5B%5B61.238244%2C%2075.190428%5D%2C%20%5B61.238213%2C%2075.19045%5D%2C%20%5B61.238126%2C%2075.190494%5D%2C%20%5B61.238106%2C%2075.190516%5D%2C%20%5B61.238028%2C%2075.190651%5D%2C%20%5B61.23796%2C%2075.190822%5D%2C%20%5B61.237895%2C%2075.190953%5D%2C%20%5B61.237822%2C%2075.191103%5D%2C%20%5B61.237756%2C%2075.191255%5D%2C%20%5B61.237697%2C%2075.191399%5D%2C%20%5B61.237631%2C%2075.191558%5D%2C%20%5B61.237556%2C%2075.191757%5D%2C%20%5B61.237495%2C%2075.191926%5D%2C%20%5B61.237427%2C%2075.19207%5D%2C%20%5B61.237358%2C%2075.192204%5D%2C%20%5B61.237287%2C%2075.192339%5D%2C%20%5B61.237185%2C%2075.192449%5D%2C%20%5B61.237102%2C%2075.192539%5D%2C%20%5B61.237006%2C%2075.192634%5D%2C%20%5B61.236923%2C%2075.192745%5D%2C%20%5B61.236856%2C%2075.19288%5D%2C%20%5B61.236786%2C%2075.193028%5D%2C%20%5B61.236724%2C%2075.193164%5D%2C%20%5B61.236647%2C%2075.19331%5D%2C%20%5B61.236567%2C%2075.193456%5D%2C%20%5B61.23649%2C%2075.193565%5D%2C%20%5B61.236391%2C%2075.193553%5D%2C%20%5B61.236358%2C%2075.19337%5D%2C%20%5B61.236384%2C%2075.193176%5D%2C%20%5B61.236427%2C%2075.192996%5D%2C%20%5B61.236461%2C%2075.192808%5D%2C%20%5B61.236429%2C%2075.192601%5D%2C%20%5B61.236367%2C%2075.192446%5D%2C%20%5B61.236305%2C%2075.192308%5D%2C%20%5B61.236253%2C%2075.192151%5D%2C%20%5B61.236211%2C%2075.191967%5D%2C%20%5B61.236171%2C%2075.191799%5D%2C%20%5B61.236119%2C%2075.19163%5D%2C%20%5B61.236081%2C%2075.191422%5D%2C%20%5B61.236047%2C%2075.191236%5D%2C%20%5B61.23599%2C%2075.191055%5D%2C%20%5B61.235917%2C%2075.19094%5D%2C%20%5B61.235836%2C%2075.19081%5D%2C%20%5B61.235755%2C%2075.190692%5D%2C%20%5B61.23567%2C%2075.190584%5D%2C%20%5B61.235594%2C%2075.190468%5D%2C%20%5B61.235505%2C%2075.190366%5D%2C%20%5B61.235411%2C%2075.190242%5D%2C%20%5B61.235313%2C%2075.190152%5D%2C%20%5B61.235214%2C%2075.190126%5D%2C%20%5B61.235145%2C%2075.19028%5D%2C%20%5B61.235194%2C%2075.190464%5D%2C%20%5B61.235253%2C%2075.190653%5D%2C%20%5B61.235313%2C%2075.190813%5D%2C%20%5B61.235386%2C%2075.190996%5D%2C%20%5B61.235458%2C%2075.191167%5D%2C%20%5B61.235527%2C%2075.191299%5D%2C%20%5B61.235617%2C%2075.191439%5D%2C%20%5B61.235707%2C%2075.191572%5D%2C%20%5B61.235776%2C%2075.191694%5D%2C%20%5B61.235848%2C%2075.191838%5D%2C%20%5B61.235919%2C%2075.191997%5D%2C%20%5B61.235986%2C%2075.192168%5D%2C%20%5B61.23607%2C%2075.192304%5D%2C%20%5B61.236155%2C%2075.192387%5D%2C%20%5B61.236239%2C%2075.19247%5D%2C%20%5B61.236269%2C%2075.192647%5D%2C%20%5B61.23619%2C%2075.192762%5D%2C%20%5B61.236093%2C%2075.192832%5D%2C%20%5B61.235996%2C%2075.192826%5D%2C%20%5B61.235905%2C%2075.192766%5D%2C%20%5B61.235748%2C%2075.192546%5D%2C%20%5B61.235681%2C%2075.192391%5D%2C%20%5B61.235628%2C%2075.192207%5D%2C%20%5B61.235582%2C%2075.192019%5D%2C%20%5B61.235541%2C%2075.191838%5D%2C%20%5B61.235505%2C%2075.191645%5D%2C%20%5B61.235453%2C%2075.191477%5D%2C%20%5B61.235402%2C%2075.19132%5D%2C%20%5B61.235344%2C%2075.191155%5D%2C%20%5B61.235293%2C%2075.190989%5D%2C%20%5B61.235207%2C%2075.190854%5D%2C%20%5B61.235113%2C%2075.190783%5D%2C%20%5B61.235008%2C%2075.190729%5D%2C%20%5B61.2349%2C%2075.190746%5D%2C%20%5B61.234792%2C%2075.190787%5D%2C%20%5B61.23468%2C%2075.190816%5D%2C%20%5B61.23459%2C%2075.19086%5D%2C%20%5B61.234489%2C%2075.190943%5D%2C%20%5B61.234415%2C%2075.191076%5D%2C%20%5B61.234419%2C%2075.191285%5D%2C%20%5B61.23443%2C%2075.1915%5D%2C%20%5B61.234453%2C%2075.191701%5D%2C%20%5B61.234468%2C%2075.191904%5D%2C%20%5B61.234489%2C%2075.19211%5D%2C%20%5B61.23449%2C%2075.192316%5D%2C%20%5B61.234502%2C%2075.192539%5D%2C%20%5B61.234504%2C%2075.192737%5D%2C%20%5B61.234509%2C%2075.192945%5D%2C%20%5B61.23453%2C%2075.193131%5D%2C%20%5B61.234551%2C%2075.193316%5D%2C%20%5B61.23456%2C%2075.193507%5D%2C%20%5B61.234567%2C%2075.193698%5D%2C%20%5B61.234587%2C%2075.193948%5D%2C%20%5B61.234602%2C%2075.194152%5D%2C%20%5B61.234599%2C%2075.194382%5D%2C%20%5B61.234612%2C%2075.194588%5D%2C%20%5B61.234688%2C%2075.194716%5D%2C%20%5B61.234783%2C%2075.194722%5D%2C%20%5B61.234899%2C%2075.194681%5D%2C%20%5B61.234993%2C%2075.19463%5D%2C%20%5B61.235094%2C%2075.194545%5D%2C%20%5B61.235175%2C%2075.19439%5D%2C%20%5B61.235221%2C%2075.194203%5D%2C%20%5B61.235233%2C%2075.193998%5D%2C%20%5B61.235187%2C%2075.193778%5D%2C%20%5B61.235151%2C%2075.193572%5D%2C%20%5B61.235116%2C%2075.19338%5D%2C%20%5B61.235119%2C%2075.193161%5D%2C%20%5B61.23516%2C%2075.192989%5D%2C%20%5B61.235233%2C%2075.192829%5D%2C%20%5B61.235325%2C%2075.192824%5D%2C%20%5B61.235426%2C%2075.192881%5D%2C%20%5B61.235512%2C%2075.193001%5D%2C%20%5B61.235562%2C%2075.19318%5D%2C%20%5B61.235595%2C%2075.193365%5D%2C%20%5B61.235624%2C%2075.193553%5D%2C%20%5B61.235613%2C%2075.193742%5D%2C%20%5B61.235557%2C%2075.193887%5D%2C%20%5B61.235494%2C%2075.194026%5D%2C%20%5B61.235448%2C%2075.194191%5D%2C%20%5B61.235434%2C%2075.19439%5D%2C%20%5B61.23543%2C%2075.194586%5D%2C%20%5B61.235374%2C%2075.194764%5D%2C%20%5B61.235306%2C%2075.194893%5D%2C%20%5B61.235229%2C%2075.195047%5D%2C%20%5B61.235146%2C%2075.195142%5D%2C%20%5B61.235048%2C%2075.195185%5D%2C%20%5B61.234944%2C%2075.195182%5D%2C%20%5B61.234854%2C%2075.195112%5D%2C%20%5B61.234778%2C%2075.195001%5D%2C%20%5B61.234697%2C%2075.194887%5D%2C%20%5B61.234599%2C%2075.194837%5D%2C%20%5B61.23451%2C%2075.194787%5D%2C%20%5B61.234419%2C%2075.194708%5D%2C%20%5B61.23433%2C%2075.194624%5D%2C%20%5B61.234247%2C%2075.194526%5D%2C%20%5B61.234173%2C%2075.194389%5D%2C%20%5B61.234125%2C%2075.1942%5D%2C%20%5B61.234058%2C%2075.194059%5D%2C%20%5B61.233968%2C%2075.193958%5D%2C%20%5B61.233873%2C%2075.193958%5D%2C%20%5B61.233775%2C%2075.194059%5D%2C%20%5B61.233718%2C%2075.194206%5D%2C%20%5B61.233699%2C%2075.194432%5D%2C%20%5B61.233697%2C%2075.194643%5D%2C%20%5B61.233754%2C%2075.19486%5D%2C%20%5B61.233809%2C%2075.195013%5D%2C%20%5B61.233883%2C%2075.195139%5D%2C%20%5B61.233965%2C%2075.195257%5D%2C%20%5B61.234056%2C%2075.195329%5D%2C%20%5B61.234137%2C%2075.195432%5D%2C%20%5B61.234195%2C%2075.195577%5D%2C%20%5B61.234275%2C%2075.195683%5D%2C%20%5B61.23437%2C%2075.195781%5D%2C%20%5B61.234473%2C%2075.195824%5D%2C%20%5B61.23458%2C%2075.1959%5D%2C%20%5B61.234683%2C%2075.196003%5D%2C%20%5B61.234766%2C%2075.196113%5D%2C%20%5B61.23481%2C%2075.196307%5D%2C%20%5B61.234754%2C%2075.196455%5D%2C%20%5B61.234661%2C%2075.196374%5D%2C%20%5B61.234573%2C%2075.196306%5D%2C%20%5B61.234476%2C%2075.196243%5D%2C%20%5B61.234379%2C%2075.196186%5D%2C%20%5B61.234284%2C%2075.196136%5D%2C%20%5B61.234184%2C%2075.196056%5D%2C%20%5B61.234091%2C%2075.19601%5D%2C%20%5B61.23399%2C%2075.195992%5D%2C%20%5B61.233888%2C%2075.195946%5D%2C%20%5B61.233801%2C%2075.19589%5D%2C%20%5B61.233694%2C%2075.195842%5D%2C%20%5B61.23356%2C%2075.195795%5D%2C%20%5B61.233466%2C%2075.195767%5D%2C%20%5B61.233373%2C%2075.195733%5D%2C%20%5B61.233255%2C%2075.195684%5D%2C%20%5B61.233151%2C%2075.195668%5D%2C%20%5B61.233066%2C%2075.195775%5D%2C%20%5B61.233037%2C%2075.195992%5D%2C%20%5B61.233093%2C%2075.196146%5D%2C%20%5B61.233189%2C%2075.1962%5D%2C%20%5B61.233283%2C%2075.19627%5D%2C%20%5B61.233364%2C%2075.196355%5D%2C%20%5B61.23346%2C%2075.196399%5D%2C%20%5B61.233555%2C%2075.196493%5D%2C%20%5B61.233649%2C%2075.196567%5D%2C%20%5B61.23375%2C%2075.196631%5D%2C%20%5B61.233843%2C%2075.196699%5D%2C%20%5B61.233932%2C%2075.196779%5D%2C%20%5B61.234025%2C%2075.196862%5D%2C%20%5B61.234119%2C%2075.19694%5D%2C%20%5B61.234208%2C%2075.196979%5D%2C%20%5B61.234307%2C%2075.197014%5D%2C%20%5B61.234404%2C%2075.197%5D%2C%20%5B61.234491%2C%2075.196932%5D%2C%20%5B61.234579%2C%2075.196859%5D%2C%20%5B61.234686%2C%2075.196786%5D%2C%20%5B61.234788%2C%2075.196746%5D%2C%20%5B61.234879%2C%2075.196729%5D%2C%20%5B61.234987%2C%2075.19667%5D%2C%20%5B61.235072%2C%2075.1966%5D%2C%20%5B61.23515%2C%2075.196469%5D%2C%20%5B61.235224%2C%2075.196314%5D%2C%20%5B61.23529%2C%2075.196168%5D%2C%20%5B61.23536%2C%2075.195995%5D%2C%20%5B61.23543%2C%2075.195824%5D%2C%20%5B61.235492%2C%2075.195684%5D%2C%20%5B61.235564%2C%2075.195561%5D%2C%20%5B61.235642%2C%2075.195441%5D%2C%20%5B61.235708%2C%2075.195294%5D%2C%20%5B61.235783%2C%2075.195146%5D%2C%20%5B61.235842%2C%2075.194999%5D%2C%20%5B61.235899%2C%2075.194854%5D%2C%20%5B61.235947%2C%2075.194695%5D%2C%20%5B61.236014%2C%2075.194539%5D%2C%20%5B61.236079%2C%2075.194389%5D%2C%20%5B61.236166%2C%2075.19428%5D%2C%20%5B61.236246%2C%2075.194174%5D%2C%20%5B61.236327%2C%2075.194031%5D%2C%20%5B61.236396%2C%2075.193895%5D%2C%20%5B61.236396%2C%2075.193694%5D%2C%20%5B61.236401%2C%2075.19349%5D%2C%20%5B61.236394%2C%2075.193291%5D%2C%20%5B61.2364%2C%2075.193069%5D%2C%20%5B61.236435%2C%2075.192857%5D%2C%20%5B61.236451%2C%2075.192638%5D%2C%20%5B61.236412%2C%2075.192458%5D%2C%20%5B61.236357%2C%2075.192289%5D%2C%20%5B61.236309%2C%2075.192129%5D%2C%20%5B61.236263%2C%2075.191943%5D%2C%20%5B61.236216%2C%2075.19177%5D%2C%20%5B61.236175%2C%2075.191583%5D%2C%20%5B61.236131%2C%2075.191411%5D%2C%20%5B61.236096%2C%2075.191211%5D%2C%20%5B61.236035%2C%2075.191034%5D%2C%20%5B61.235961%2C%2075.190895%5D%2C%20%5B61.235889%2C%2075.190771%5D%2C%20%5B61.235801%2C%2075.190686%5D%2C%20%5B61.235719%2C%2075.190601%5D%2C%20%5B61.235644%2C%2075.190497%5D%2C%20%5B61.235565%2C%2075.190387%5D%2C%20%5B61.23547%2C%2075.19028%5D%2C%20%5B61.235378%2C%2075.190181%5D%2C%20%5B61.235288%2C%2075.190096%5D%2C%20%5B61.235194%2C%2075.190162%5D%2C%20%5B61.23517%2C%2075.190353%5D%2C%20%5B61.235198%2C%2075.190533%5D%2C%20%5B61.235246%2C%2075.190694%5D%2C%20%5B61.235302%2C%2075.190857%5D%2C%20%5B61.235378%2C%2075.191012%5D%2C%20%5B61.235437%2C%2075.191177%5D%2C%20%5B61.235507%2C%2075.191302%5D%2C%20%5B61.235588%2C%2075.191431%5D%2C%20%5B61.235664%2C%2075.191551%5D%2C%20%5B61.235742%2C%2075.191679%5D%2C%20%5B61.235822%2C%2075.191822%5D%2C%20%5B61.235895%2C%2075.191948%5D%2C%20%5B61.235946%2C%2075.192137%5D%2C%20%5B61.236014%2C%2075.192298%5D%2C%20%5B61.23609%2C%2075.1924%5D%2C%20%5B61.236189%2C%2075.192497%5D%2C%20%5B61.236255%2C%2075.192667%5D%2C%20%5B61.236174%2C%2075.192781%5D%2C%20%5B61.236077%2C%2075.192852%5D%2C%20%5B61.235981%2C%2075.192804%5D%2C%20%5B61.235894%2C%2075.192709%5D%2C%20%5B61.235813%2C%2075.1926%5D%2C%20%5B61.235731%2C%2075.192468%5D%2C%20%5B61.235673%2C%2075.192314%5D%2C%20%5B61.235621%2C%2075.192136%5D%2C%20%5B61.235573%2C%2075.191976%5D%2C%20%5B61.235529%2C%2075.191808%5D%2C%20%5B61.235482%2C%2075.191637%5D%2C%20%5B61.235436%2C%2075.191461%5D%2C%20%5B61.23539%2C%2075.191295%5D%2C%20%5B61.235336%2C%2075.191128%5D%2C%20%5B61.23528%2C%2075.190971%5D%2C%20%5B61.23521%2C%2075.190825%5D%2C%20%5B61.23512%2C%2075.190724%5D%2C%20%5B61.235011%2C%2075.190672%5D%2C%20%5B61.23491%2C%2075.190683%5D%2C%20%5B61.234806%2C%2075.190734%5D%2C%20%5B61.234705%2C%2075.190801%5D%2C%20%5B61.234603%2C%2075.190843%5D%2C%20%5B61.234506%2C%2075.19089%5D%2C%20%5B61.234435%2C%2075.191015%5D%2C%20%5B61.234431%2C%2075.191436%5D%2C%20%5B61.234445%2C%2075.19164%5D%2C%20%5B61.234463%2C%2075.191826%5D%2C%20%5B61.234474%2C%2075.192043%5D%2C%20%5B61.23448%2C%2075.192247%5D%2C%20%5B61.23447%2C%2075.192478%5D%2C%20%5B61.234479%2C%2075.192676%5D%2C%20%5B61.234493%2C%2075.192897%5D%2C%20%5B61.234496%2C%2075.193086%5D%2C%20%5B61.234496%2C%2075.193275%5D%2C%20%5B61.234502%2C%2075.193475%5D%2C%20%5B61.234501%2C%2075.193708%5D%2C%20%5B61.2345%2C%2075.193928%5D%2C%20%5B61.234506%2C%2075.194152%5D%2C%20%5B61.234522%2C%2075.194354%5D%2C%20%5B61.234562%2C%2075.194561%5D%2C%20%5B61.234625%2C%2075.194715%5D%2C%20%5B61.234719%2C%2075.194757%5D%2C%20%5B61.234834%2C%2075.194713%5D%2C%20%5B61.234944%2C%2075.194656%5D%2C%20%5B61.235047%2C%2075.194583%5D%2C%20%5B61.23513%2C%2075.194455%5D%2C%20%5B61.235181%2C%2075.194234%5D%2C%20%5B61.235209%2C%2075.19402%5D%2C%20%5B61.235197%2C%2075.193826%5D%2C%20%5B61.235157%2C%2075.193634%5D%2C%20%5B61.235118%2C%2075.193433%5D%2C%20%5B61.235109%2C%2075.193225%5D%2C%20%5B61.235134%2C%2075.19304%5D%2C%20%5B61.235186%2C%2075.192845%5D%2C%20%5B61.235273%2C%2075.192785%5D%2C%20%5B61.23538%2C%2075.192847%5D%2C%20%5B61.235459%2C%2075.192955%5D%2C%20%5B61.235515%2C%2075.193119%5D%2C%20%5B61.235571%2C%2075.193334%5D%2C%20%5B61.235605%2C%2075.193531%5D%2C%20%5B61.235613%2C%2075.193728%5D%2C%20%5B61.235567%2C%2075.193892%5D%2C%20%5B61.235497%2C%2075.194045%5D%2C%20%5B61.235444%2C%2075.194242%5D%2C%20%5B61.235423%2C%2075.194467%5D%2C%20%5B61.235391%2C%2075.194666%5D%2C%20%5B61.235313%2C%2075.19483%5D%2C%20%5B61.235253%2C%2075.19498%5D%2C%20%5B61.235174%2C%2075.19513%5D%2C%20%5B61.235076%2C%2075.195205%5D%2C%20%5B61.234972%2C%2075.195214%5D%2C%20%5B61.234886%2C%2075.19515%5D%2C%20%5B61.234808%2C%2075.195019%5D%2C%20%5B61.234721%2C%2075.1949%5D%2C%20%5B61.234629%2C%2075.194859%5D%2C%20%5B61.234534%2C%2075.194804%5D%2C%20%5B61.234441%2C%2075.194717%5D%2C%20%5B61.234343%2C%2075.194611%5D%2C%20%5B61.234266%2C%2075.194475%5D%2C%20%5B61.234193%2C%2075.194301%5D%2C%20%5B61.234137%2C%2075.19415%5D%2C%20%5B61.234069%2C%2075.194007%5D%2C%20%5B61.233958%2C%2075.193919%5D%2C%20%5B61.233862%2C%2075.193919%5D%2C%20%5B61.233777%2C%2075.193996%5D%2C%20%5B61.233723%2C%2075.194151%5D%2C%20%5B61.233681%2C%2075.194346%5D%2C%20%5B61.23368%2C%2075.194549%5D%2C%20%5B61.233712%2C%2075.194758%5D%2C%20%5B61.233751%2C%2075.194929%5D%2C%20%5B61.233807%2C%2075.195093%5D%2C%20%5B61.233885%2C%2075.195205%5D%2C%20%5B61.23397%2C%2075.195293%5D%2C%20%5B61.234055%2C%2075.195391%5D%2C%20%5B61.234131%2C%2075.19552%5D%2C%20%5B61.23421%2C%2075.195644%5D%2C%20%5B61.234292%2C%2075.195724%5D%2C%20%5B61.23439%2C%2075.195812%5D%2C%20%5B61.234477%2C%2075.195885%5D%2C%20%5B61.234574%2C%2075.195984%5D%2C%20%5B61.234659%2C%2075.196093%5D%2C%20%5B61.234712%2C%2075.196261%5D%2C%20%5B61.234622%2C%2075.196328%5D%2C%20%5B61.234533%2C%2075.196291%5D%2C%20%5B61.234431%2C%2075.196244%5D%2C%20%5B61.234342%2C%2075.196181%5D%2C%20%5B61.234251%2C%2075.196127%5D%2C%20%5B61.234158%2C%2075.196065%5D%2C%20%5B61.234063%2C%2075.196027%5D%2C%20%5B61.233972%2C%2075.196018%5D%2C%20%5B61.233876%2C%2075.195966%5D%2C%20%5B61.233785%2C%2075.195907%5D%2C%20%5B61.233687%2C%2075.195857%5D%2C%20%5B61.233577%2C%2075.195798%5D%2C%20%5B61.233486%2C%2075.195762%5D%2C%20%5B61.233375%2C%2075.195727%5D%2C%20%5B61.233282%2C%2075.195678%5D%2C%20%5B61.233182%2C%2075.195673%5D%2C%20%5B61.233086%2C%2075.195745%5D%2C%20%5B61.233019%2C%2075.195929%5D%2C%20%5B61.233052%2C%2075.196103%5D%2C%20%5B61.233142%2C%2075.196174%5D%2C%20%5B61.23323%2C%2075.196224%5D%2C%20%5B61.233314%2C%2075.196298%5D%2C%20%5B61.233397%2C%2075.196392%5D%2C%20%5B61.233493%2C%2075.196481%5D%2C%20%5B61.233583%2C%2075.196583%5D%2C%20%5B61.233671%2C%2075.196665%5D%2C%20%5B61.233759%2C%2075.196715%5D%2C%20%5B61.233862%2C%2075.196767%5D%2C%20%5B61.233959%2C%2075.196828%5D%2C%20%5B61.234046%2C%2075.196887%5D%2C%20%5B61.234132%2C%2075.196965%5D%2C%20%5B61.234222%2C%2075.197011%5D%2C%20%5B61.234326%2C%2075.197029%5D%2C%20%5B61.234426%2C%2075.196984%5D%2C%20%5B61.234519%2C%2075.196909%5D%2C%20%5B61.234606%2C%2075.196829%5D%2C%20%5B61.234704%2C%2075.196742%5D%2C%20%5B61.234794%2C%2075.196685%5D%2C%20%5B61.234893%2C%2075.196671%5D%2C%20%5B61.234986%2C%2075.19665%5D%2C%20%5B61.23508%2C%2075.196597%5D%2C%20%5B61.235162%2C%2075.196492%5D%2C%20%5B61.235242%2C%2075.196344%5D%2C%20%5B61.235311%2C%2075.196193%5D%2C%20%5B61.235326%2C%2075.196171%5D%2C%20%5B61.235342%2C%2075.195998%5D%2C%20%5B61.235407%2C%2075.195864%5D%2C%20%5B61.235481%2C%2075.195709%5D%2C%20%5B61.235564%2C%2075.195576%5D%2C%20%5B61.23565%2C%2075.195445%5D%2C%20%5B61.235723%2C%2075.195294%5D%2C%20%5B61.235787%2C%2075.195126%5D%2C%20%5B61.235845%2C%2075.194964%5D%2C%20%5B61.235908%2C%2075.19483%5D%2C%20%5B61.235976%2C%2075.19469%5D%2C%20%5B61.236041%2C%2075.194517%5D%2C%20%5B61.236107%2C%2075.194337%5D%2C%20%5B61.236194%2C%2075.194241%5D%2C%20%5B61.236275%2C%2075.194133%5D%2C%20%5B61.236355%2C%2075.19399%5D%2C%20%5B61.23642%2C%2075.193856%5D%2C%20%5B61.236482%2C%2075.193706%5D%2C%20%5B61.236545%2C%2075.193556%5D%2C%20%5B61.236624%2C%2075.193409%5D%2C%20%5B61.236693%2C%2075.19326%5D%2C%20%5B61.236762%2C%2075.193116%5D%2C%20%5B61.236819%2C%2075.192958%5D%2C%20%5B61.236891%2C%2075.192813%5D%2C%20%5B61.236971%2C%2075.192685%5D%2C%20%5B61.237048%2C%2075.192556%5D%2C%20%5B61.237137%2C%2075.192444%5D%2C%20%5B61.237227%2C%2075.19235%5D%2C%20%5B61.237299%2C%2075.192219%5D%2C%20%5B61.237371%2C%2075.192098%5D%2C%20%5B61.237441%2C%2075.191982%5D%2C%20%5B61.237512%2C%2075.191831%5D%2C%20%5B61.237579%2C%2075.191701%5D%2C%20%5B61.237648%2C%2075.191541%5D%2C%20%5B61.237704%2C%2075.191374%5D%2C%20%5B61.237775%2C%2075.191224%5D%2C%20%5B61.23784%2C%2075.191077%5D%2C%20%5B61.237913%2C%2075.190928%5D%2C%20%5B61.23798%2C%2075.190784%5D%2C%20%5B61.238051%2C%2075.190647%5D%2C%20%5B61.238125%2C%2075.190509%5D%2C%20%5B61.238195%2C%2075.190388%5D%2C%20%5B61.238265%2C%2075.190246%5D%2C%20%5B61.238331%2C%2075.190099%5D%2C%20%5B61.238394%2C%2075.189951%5D%2C%20%5B61.23847%2C%2075.189787%5D%2C%20%5B61.238543%2C%2075.189642%5D%2C%20%5B61.238604%2C%2075.18949%5D%2C%20%5B61.238674%2C%2075.189344%5D%2C%20%5B61.238761%2C%2075.189189%5D%2C%20%5B61.238828%2C%2075.189062%5D%2C%20%5B61.238893%2C%2075.18891%5D%2C%20%5B61.238943%2C%2075.188751%5D%2C%20%5B61.239002%2C%2075.188597%5D%2C%20%5B61.239063%2C%2075.188438%5D%2C%20%5B61.239123%2C%2075.188279%5D%2C%20%5B61.239192%2C%2075.188141%5D%2C%20%5B61.239277%2C%2075.188018%5D%2C%20%5B61.239351%2C%2075.187885%5D%2C%20%5B61.239413%2C%2075.187736%5D%2C%20%5B61.239455%2C%2075.1876%5D%2C%20%5B61.239504%2C%2075.187457%5D%2C%20%5B61.239531%2C%2075.187402%5D%2C%20%5B61.239569%2C%2075.187404%5D%2C%20%5B61.239623%2C%2075.187541%5D%2C%20%5B61.239679%2C%2075.187677%5D%2C%20%5B61.239759%2C%2075.187838%5D%2C%20%5B61.239858%2C%2075.188018%5D%2C%20%5B61.239954%2C%2075.18818%5D%2C%20%5B61.240049%2C%2075.188335%5D%2C%20%5B61.240147%2C%2075.188526%5D%2C%20%5B61.24025%2C%2075.188732%5D%2C%20%5B61.240353%2C%2075.188934%5D%2C%20%5B61.24044%2C%2075.189101%5D%2C%20%5B61.240513%2C%2075.189215%5D%2C%20%5B61.240605%2C%2075.189158%5D%2C%20%5B61.240676%2C%2075.18901%5D%2C%20%5B61.240786%2C%2075.188769%5D%2C%20%5B61.24085%2C%2075.18862%5D%2C%20%5B61.240916%2C%2075.188461%5D%2C%20%5B61.240983%2C%2075.188299%5D%2C%20%5B61.241053%2C%2075.188134%5D%2C%20%5B61.241122%2C%2075.18797%5D%2C%20%5B61.241254%2C%2075.187644%5D%2C%20%5B61.24132%2C%2075.187459%5D%2C%20%5B61.241387%2C%2075.187269%5D%2C%20%5B61.241456%2C%2075.18709%5D%2C%20%5B61.241528%2C%2075.186908%5D%2C%20%5B61.241606%2C%2075.186717%5D%2C%20%5B61.241685%2C%2075.18653%5D%2C%20%5B61.241762%2C%2075.186352%5D%2C%20%5B61.241838%2C%2075.186172%5D%2C%20%5B61.241912%2C%2075.185997%5D%2C%20%5B61.242064%2C%2075.185636%5D%2C%20%5B61.24214%2C%2075.185456%5D%2C%20%5B61.242216%2C%2075.185275%5D%2C%20%5B61.24229%2C%2075.185099%5D%2C%20%5B61.242359%2C%2075.184942%5D%2C%20%5B61.242422%2C%2075.1848%5D%2C%20%5B61.242536%2C%2075.184541%5D%2C%20%5B61.242643%2C%2075.184301%5D%2C%20%5B61.242744%2C%2075.184063%5D%2C%20%5B61.242822%2C%2075.183862%5D%2C%20%5B61.242893%2C%2075.183692%5D%2C%20%5B61.242992%2C%2075.183465%5D%2C%20%5B61.243116%2C%2075.183187%5D%2C%20%5B61.243183%2C%2075.183033%5D%2C%20%5B61.243253%2C%2075.182871%5D%2C%20%5B61.243325%2C%2075.182703%5D%2C%20%5B61.243398%2C%2075.182531%5D%2C%20%5B61.243539%2C%2075.1822%5D%2C%20%5B61.243614%2C%2075.182026%5D%2C%20%5B61.243691%2C%2075.181848%5D%2C%20%5B61.243768%2C%2075.18167%5D%2C%20%5B61.243846%2C%2075.181491%5D%2C%20%5B61.243925%2C%2075.181315%5D%2C%20%5B61.244003%2C%2075.18114%5D%2C%20%5B61.244081%2C%2075.180967%5D%2C%20%5B61.244161%2C%2075.180793%5D%2C%20%5B61.244241%2C%2075.180619%5D%2C%20%5B61.244396%2C%2075.180252%5D%2C%20%5B61.24447%2C%2075.180071%5D%2C%20%5B61.244549%2C%2075.179878%5D%2C%20%5B61.244631%2C%2075.179679%5D%2C%20%5B61.244712%2C%2075.179482%5D%2C%20%5B61.244792%2C%2075.179288%5D%2C%20%5B61.244872%2C%2075.179099%5D%2C%20%5B61.24495%2C%2075.178913%5D%2C%20%5B61.245027%2C%2075.178733%5D%2C%20%5B61.245102%2C%2075.178557%5D%2C%20%5B61.245177%2C%2075.178388%5D%2C%20%5B61.245247%2C%2075.178228%5D%2C%20%5B61.245316%2C%2075.178067%5D%2C%20%5B61.245383%2C%2075.177907%5D%2C%20%5B61.245446%2C%2075.177755%5D%2C%20%5B61.245506%2C%2075.177614%5D%2C%20%5B61.245616%2C%2075.177357%5D%2C%20%5B61.245705%2C%2075.177152%5D%2C%20%5B61.245769%2C%2075.177005%5D%2C%20%5B61.245918%2C%2075.176645%5D%2C%20%5B61.24601%2C%2075.176446%5D%2C%20%5B61.246121%2C%2075.176184%5D%2C%20%5B61.246233%2C%2075.175912%5D%2C%20%5B61.246369%2C%2075.175571%5D%2C%20%5B61.246438%2C%2075.175395%5D%2C%20%5B61.24651%2C%2075.175211%5D%2C%20%5B61.24658%2C%2075.17502%5D%2C%20%5B61.24674%2C%2075.174627%5D%2C%20%5B61.2469%2C%2075.174244%5D%2C%20%5B61.246979%2C%2075.174059%5D%2C%20%5B61.247126%2C%2075.173713%5D%2C%20%5B61.247204%2C%2075.173521%5D%2C%20%5B61.247284%2C%2075.173327%5D%2C%20%5B61.247365%2C%2075.17313%5D%2C%20%5B61.247527%2C%2075.172755%5D%2C%20%5B61.247606%2C%2075.172567%5D%2C%20%5B61.247686%2C%2075.17239%5D%2C%20%5B61.247766%2C%2075.17221%5D%2C%20%5B61.247919%2C%2075.171849%5D%2C%20%5B61.247995%2C%2075.171667%5D%2C%20%5B61.248067%2C%2075.171497%5D%2C%20%5B61.248134%2C%2075.171345%5D%2C%20%5B61.248242%2C%2075.171106%5D%2C%20%5B61.248349%2C%2075.170874%5D%2C%20%5B61.24845%2C%2075.170635%5D%2C%20%5B61.248549%2C%2075.170395%5D%2C%20%5B61.248648%2C%2075.170151%5D%2C%20%5B61.248747%2C%2075.169922%5D%2C%20%5B61.24885%2C%2075.169667%5D%2C%20%5B61.248942%2C%2075.169436%5D%2C%20%5B61.24903%2C%2075.169199%5D%2C%20%5B61.24907%2C%2075.168917%5D%2C%20%5B61.249084%2C%2075.168623%5D%2C%20%5B61.249092%2C%2075.16833%5D%2C%20%5B61.24909%2C%2075.168029%5D%2C%20%5B61.249088%2C%2075.167729%5D%2C%20%5B61.249054%2C%2075.167447%5D%2C%20%5B61.249039%2C%2075.167207%5D%2C%20%5B61.249106%2C%2075.167079%5D%2C%20%5B61.249226%2C%2075.167096%5D%2C%20%5B61.249321%2C%2075.167081%5D%2C%20%5B61.249406%2C%2075.167%5D%2C%20%5B61.249498%2C%2075.16684%5D%2C%20%5B61.249583%2C%2075.166678%5D%2C%20%5B61.249691%2C%2075.166449%5D%2C%20%5B61.249767%2C%2075.166312%5D%2C%20%5B61.249847%2C%2075.166159%5D%2C%20%5B61.249943%2C%2075.165993%5D%2C%20%5B61.250047%2C%2075.165803%5D%2C%20%5B61.250139%2C%2075.1657%5D%2C%20%5B61.250226%2C%2075.16559%5D%2C%20%5B61.250297%2C%2075.165454%5D%2C%20%5B61.250393%2C%2075.165227%5D%2C%20%5B61.250457%2C%2075.165075%5D%2C%20%5B61.2503%2C%2075.164932%5D%2C%20%5B61.250488%2C%2075.164783%5D%2C%20%5B61.250408%2C%2075.164994%5D%2C%20%5B61.250408%2C%2075.164994%5D%2C%20%5B61.250066%2C%2075.166121%5D%2C%20%5B61.2501%2C%2075.163961%5D%2C%20%5B61.250143%2C%2075.164079%5D%2C%20%5B61.250022%2C%2075.16404%5D%2C%20%5B61.250014%2C%2075.164038%5D%2C%20%5B61.250068%2C%2075.164057%5D%2C%20%5B61.250094%2C%2075.164235%5D%2C%20%5B61.250094%2C%2075.164235%5D%5D%2C%0A%20%20%20%20%20%20%20%20%20%20%20%20%20%20%20%20%20%20%20%20%7B%0A%20%20%22bubblingMouseEvents%22%3A%20true%2C%0A%20%20%22color%22%3A%20%22blue%22%2C%0A%20%20%22dashArray%22%3A%20null%2C%0A%20%20%22dashOffset%22%3A%20null%2C%0A%20%20%22fill%22%3A%20false%2C%0A%20%20%22fillColor%22%3A%20%22blue%22%2C%0A%20%20%22fillOpacity%22%3A%200.2%2C%0A%20%20%22fillRule%22%3A%20%22evenodd%22%2C%0A%20%20%22lineCap%22%3A%20%22round%22%2C%0A%20%20%22lineJoin%22%3A%20%22round%22%2C%0A%20%20%22noClip%22%3A%20false%2C%0A%20%20%22opacity%22%3A%200.5%2C%0A%20%20%22smoothFactor%22%3A%201.0%2C%0A%20%20%22stroke%22%3A%20true%2C%0A%20%20%22weight%22%3A%204.5%0A%7D%0A%20%20%20%20%20%20%20%20%20%20%20%20%20%20%20%20%20%20%20%20%29%0A%20%20%20%20%20%20%20%20%20%20%20%20%20%20%20%20%20%20%20%20.addTo%28map_8cbb4dba713042679e2c919af5638956%29%3B%0A%20%20%20%20%20%20%20%20%20%20%20%20%0A%20%20%20%20%0A%0A%20%20%20%20%20%20%20%20%20%20%20%20var%20circle_eb3c260864cf4bcf819ae1cb1049ed50%20%3D%20L.circle%28%0A%20%20%20%20%20%20%20%20%20%20%20%20%20%20%20%20%5B61.238228500000005%2C%2075.190439%5D%2C%0A%20%20%20%20%20%20%20%20%20%20%20%20%20%20%20%20%7B%0A%20%20%22bubblingMouseEvents%22%3A%20true%2C%0A%20%20%22color%22%3A%20%22blue%22%2C%0A%20%20%22dashArray%22%3A%20null%2C%0A%20%20%22dashOffset%22%3A%20null%2C%0A%20%20%22fill%22%3A%20true%2C%0A%20%20%22fillColor%22%3A%20%22blue%22%2C%0A%20%20%22fillOpacity%22%3A%200.8%2C%0A%20%20%22fillRule%22%3A%20%22evenodd%22%2C%0A%20%20%22lineCap%22%3A%20%22round%22%2C%0A%20%20%22lineJoin%22%3A%20%22round%22%2C%0A%20%20%22opacity%22%3A%201.0%2C%0A%20%20%22radius%22%3A%201000%2C%0A%20%20%22stroke%22%3A%20true%2C%0A%20%20%22weight%22%3A%203%0A%7D%0A%20%20%20%20%20%20%20%20%20%20%20%20%20%20%20%20%29%0A%20%20%20%20%20%20%20%20%20%20%20%20%20%20%20%20.addTo%28map_8cbb4dba713042679e2c919af5638956%29%3B%0A%20%20%20%20%20%20%20%20%20%20%20%20%0A%20%20%20%20%0A%20%20%20%20%20%20%20%20%20%20%20%20var%20popup_a38c6a70ead7497d98357bc5a942ca4c%20%3D%20L.popup%28%7BmaxWidth%3A%20%27100%25%27%0A%20%20%20%20%20%20%20%20%20%20%20%20%0A%20%20%20%20%20%20%20%20%20%20%20%20%7D%29%3B%0A%0A%20%20%20%20%20%20%20%20%20%20%20%20%0A%20%20%20%20%20%20%20%20%20%20%20%20%20%20%20%20var%20html_daa03471ea634477b0124146adb279e4%20%3D%20%24%28%60%3Cdiv%20id%3D%22html_daa03471ea634477b0124146adb279e4%22%20style%3D%22width%3A%20100.0%25%3B%20height%3A%20100.0%25%3B%22%3ENordic%20Ski%3C/div%3E%60%29%5B0%5D%3B%0A%20%20%20%20%20%20%20%20%20%20%20%20%20%20%20%20popup_a38c6a70ead7497d98357bc5a942ca4c.setContent%28html_daa03471ea634477b0124146adb279e4%29%3B%0A%20%20%20%20%20%20%20%20%20%20%20%20%0A%0A%20%20%20%20%20%20%20%20%20%20%20%20circle_eb3c260864cf4bcf819ae1cb1049ed50.bindPopup%28popup_a38c6a70ead7497d98357bc5a942ca4c%29%0A%20%20%20%20%20%20%20%20%20%20%20%20%3B%0A%0A%20%20%20%20%20%20%20%20%20%20%20%20%0A%20%20%20%20%20%20%20%20%0A%20%20%20%20%0A%0A%20%20%20%20%20%20%20%20%20%20%20%20var%20circle_effa45f92de54e1daeca28b6e06f2821%20%3D%20L.circle%28%0A%20%20%20%20%20%20%20%20%20%20%20%20%20%20%20%20%5B61.23139736759269%2C%2075.15860032499991%5D%2C%0A%20%20%20%20%20%20%20%20%20%20%20%20%20%20%20%20%7B%0A%20%20%22bubblingMouseEvents%22%3A%20true%2C%0A%20%20%22color%22%3A%20%22red%22%2C%0A%20%20%22dashArray%22%3A%20null%2C%0A%20%20%22dashOffset%22%3A%20null%2C%0A%20%20%22fill%22%3A%20true%2C%0A%20%20%22fillColor%22%3A%20%22red%22%2C%0A%20%20%22fillOpacity%22%3A%200.8%2C%0A%20%20%22fillRule%22%3A%20%22evenodd%22%2C%0A%20%20%22lineCap%22%3A%20%22round%22%2C%0A%20%20%22lineJoin%22%3A%20%22round%22%2C%0A%20%20%22opacity%22%3A%201.0%2C%0A%20%20%22radius%22%3A%201000%2C%0A%20%20%22stroke%22%3A%20true%2C%0A%20%20%22weight%22%3A%203%0A%7D%0A%20%20%20%20%20%20%20%20%20%20%20%20%20%20%20%20%29%0A%20%20%20%20%20%20%20%20%20%20%20%20%20%20%20%20.addTo%28map_8cbb4dba713042679e2c919af5638956%29%3B%0A%20%20%20%20%20%20%20%20%20%20%20%20%0A%20%20%20%20%0A%20%20%20%20%20%20%20%20%20%20%20%20var%20popup_85c9947cfd6e4dab95b91b9e53190b55%20%3D%20L.popup%28%7BmaxWidth%3A%20%27100%25%27%0A%20%20%20%20%20%20%20%20%20%20%20%20%0A%20%20%20%20%20%20%20%20%20%20%20%20%7D%29%3B%0A%0A%20%20%20%20%20%20%20%20%20%20%20%20%0A%20%20%20%20%20%20%20%20%20%20%20%20%20%20%20%20var%20html_1b1632532ea04cc9b4ba3b2b98d0dc65%20%3D%20%24%28%60%3Cdiv%20id%3D%22html_1b1632532ea04cc9b4ba3b2b98d0dc65%22%20style%3D%22width%3A%20100.0%25%3B%20height%3A%20100.0%25%3B%22%3ESome%20Act%3C/div%3E%60%29%5B0%5D%3B%0A%20%20%20%20%20%20%20%20%20%20%20%20%20%20%20%20popup_85c9947cfd6e4dab95b91b9e53190b55.setContent%28html_1b1632532ea04cc9b4ba3b2b98d0dc65%29%3B%0A%20%20%20%20%20%20%20%20%20%20%20%20%0A%0A%20%20%20%20%20%20%20%20%20%20%20%20circle_effa45f92de54e1daeca28b6e06f2821.bindPopup%28popup_85c9947cfd6e4dab95b91b9e53190b55%29%0A%20%20%20%20%20%20%20%20%20%20%20%20%3B%0A%0A%20%20%20%20%20%20%20%20%20%20%20%20%0A%20%20%20%20%20%20%20%20%0A%3C/script%3E onload=\"this.contentDocument.open();this.contentDocument.write(    decodeURIComponent(this.getAttribute('data-html')));this.contentDocument.close();\" allowfullscreen webkitallowfullscreen mozallowfullscreen></iframe></div></div>"
            ],
            "text/plain": [
              "<folium.folium.Map at 0x7f53659a26d0>"
            ]
          },
          "metadata": {},
          "execution_count": 65
        }
      ]
    }
  ]
}